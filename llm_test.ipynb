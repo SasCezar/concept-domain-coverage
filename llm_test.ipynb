{
 "cells": [
  {
   "cell_type": "code",
   "execution_count": 7,
   "metadata": {},
   "outputs": [],
   "source": [
    "from langchain.chat_models import AzureChatOpenAI\n",
    "from langchain.prompts.chat import ChatPromptTemplate\n",
    "from langchain.callbacks import get_openai_callback\n",
    "from dotenv import load_dotenv, find_dotenv\n",
    "import os"
   ]
  },
  {
   "cell_type": "code",
   "execution_count": 2,
   "metadata": {},
   "outputs": [],
   "source": [
    "_ = load_dotenv(find_dotenv()) # read local .env file"
   ]
  },
  {
   "cell_type": "code",
   "execution_count": 10,
   "metadata": {},
   "outputs": [],
   "source": [
    "sys_template = \"\"\"You are a helpful assistant tasked to match terms (concepts) to the domain it should belong.\n",
    "    There may be terms which may belong to more than one domain. Only assume they can only belong to, at most, three.\n",
    "    You will be given a set of terms in lists that we shall call concepts.\n",
    "    \n",
    "    Example of one concept: ['high', 'tall', 'short', 'fat']\n",
    "    \n",
    "    This is an example of two domains you have to choose from: ['emotion', 'adjective']\n",
    "    \n",
    "    You need to match the concept to the domain it belongs to, which means the most similar in terms of meaning. In this case, your answer should be: ['adjective'].\n",
    "\n",
    "    You cannot make up your own domain, you have to *only choose* from the domains given.\n",
    "\n",
    "    Another example, for the concept \"['happy', 'sad']\", your answer should be: ['emotions', 'feelings']\n",
    "\n",
    "    If there is no domain given that matches to the concept, then you should only match it to a 'None' domain. For example: ['None']\n",
    "    \"\"\""
   ]
  },
  {
   "cell_type": "code",
   "execution_count": 11,
   "metadata": {},
   "outputs": [],
   "source": [
    "concepts = \"['market', 'church', 'school']\"\n",
    "domains = \"['emotion', 'action', 'building', 'studies', 'places']\""
   ]
  },
  {
   "cell_type": "code",
   "execution_count": 12,
   "metadata": {},
   "outputs": [],
   "source": [
    "human_template = f\"\"\"\n",
    "    Now, this is the concept I need you to match:\n",
    "\n",
    "    {concepts}\n",
    "\n",
    "    And, these are the domains you can choose from:\n",
    "\n",
    "    {domains}\n",
    "\n",
    "    Which domains do the concept most belong to?\n",
    "\n",
    "    Helpful Answer:\"\"\"\n"
   ]
  },
  {
   "cell_type": "code",
   "execution_count": 13,
   "metadata": {},
   "outputs": [],
   "source": [
    "chat_prompt = ChatPromptTemplate.from_messages([\n",
    "    (\"system\", sys_template),\n",
    "    (\"human\", human_template),\n",
    "])"
   ]
  },
  {
   "cell_type": "code",
   "execution_count": 14,
   "metadata": {},
   "outputs": [
    {
     "name": "stdout",
     "output_type": "stream",
     "text": [
      "Total Cost (USD): $0.012270\n"
     ]
    }
   ],
   "source": [
    "model = AzureChatOpenAI(\n",
    "    azure_deployment=\"gpt-4\",\n",
    "    api_key = os.getenv(\"AZURE_OPENAI_API_KEY\"),  \n",
    "    azure_endpoint = os.getenv(\"AZURE_OPENAI_API_ENDPOINT\")\n",
    ")\n",
    "\n",
    "with get_openai_callback() as cb:\n",
    "    response = model(chat_prompt.format_messages(text=human_template))\n",
    "    print(\n",
    "        f\"Total Cost (USD): ${format(cb.total_cost, '.6f')}\"\n",
    "    ) "
   ]
  },
  {
   "cell_type": "code",
   "execution_count": 15,
   "metadata": {},
   "outputs": [
    {
     "name": "stdout",
     "output_type": "stream",
     "text": [
      "The concept ['market', 'church', 'school'] most belongs to the following domains:\n",
      "\n",
      "- ['building', 'places']\n"
     ]
    }
   ],
   "source": [
    "print(response.content)"
   ]
  },
  {
   "cell_type": "code",
   "execution_count": null,
   "metadata": {},
   "outputs": [],
   "source": []
  }
 ],
 "metadata": {
  "kernelspec": {
   "display_name": "Python 3",
   "language": "python",
   "name": "python3"
  },
  "language_info": {
   "codemirror_mode": {
    "name": "ipython",
    "version": 3
   },
   "file_extension": ".py",
   "mimetype": "text/x-python",
   "name": "python",
   "nbconvert_exporter": "python",
   "pygments_lexer": "ipython3",
   "version": "3.11.7"
  }
 },
 "nbformat": 4,
 "nbformat_minor": 2
}
