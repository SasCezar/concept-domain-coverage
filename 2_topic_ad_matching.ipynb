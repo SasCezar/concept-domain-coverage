{
 "cells": [
  {
   "cell_type": "markdown",
   "metadata": {},
   "source": [
    "## Concept/Domain coverage analysis: Matching with App Domains\n",
    "\n",
    "This notebook extracts corpus keywords and analyse the concepts emerging from three sources: source code, documentation and tests"
   ]
  },
  {
   "cell_type": "markdown",
   "metadata": {},
   "source": [
    "## Show topics"
   ]
  },
  {
   "cell_type": "code",
   "execution_count": 1,
   "metadata": {
    "scrolled": true
   },
   "outputs": [
    {
     "data": {
      "text/html": [
       "<div>\n",
       "<style scoped>\n",
       "    .dataframe tbody tr th:only-of-type {\n",
       "        vertical-align: middle;\n",
       "    }\n",
       "\n",
       "    .dataframe tbody tr th {\n",
       "        vertical-align: top;\n",
       "    }\n",
       "\n",
       "    .dataframe thead th {\n",
       "        text-align: right;\n",
       "    }\n",
       "</style>\n",
       "<table border=\"1\" class=\"dataframe\">\n",
       "  <thead>\n",
       "    <tr style=\"text-align: right;\">\n",
       "      <th></th>\n",
       "      <th>project_name</th>\n",
       "      <th>module</th>\n",
       "      <th>code_topics</th>\n",
       "      <th>test_topics</th>\n",
       "      <th>doc_topics</th>\n",
       "    </tr>\n",
       "  </thead>\n",
       "  <tbody>\n",
       "    <tr>\n",
       "      <th>0</th>\n",
       "      <td>01_dubbo</td>\n",
       "      <td>dubbo-cluster</td>\n",
       "      <td>[['merger', 'model', 'scope', 'aware', 'end', ...</td>\n",
       "      <td>[['merger', 'model', 'scope', 'aware', 'end', ...</td>\n",
       "      <td>[['service', 'see', 'issue', 'sample', 'projec...</td>\n",
       "    </tr>\n",
       "    <tr>\n",
       "      <th>1</th>\n",
       "      <td>01_dubbo</td>\n",
       "      <td>dubbo-common</td>\n",
       "      <td>[['map', 'extension', 'loader', 'property', 'm...</td>\n",
       "      <td>[['map', 'extension', 'loader', 'property', 'm...</td>\n",
       "      <td>[['service', 'see', 'issue', 'sample', 'projec...</td>\n",
       "    </tr>\n",
       "    <tr>\n",
       "      <th>2</th>\n",
       "      <td>01_dubbo</td>\n",
       "      <td>dubbo-compatible</td>\n",
       "      <td>[['invocation', 'invoker', 'attachment', 'argu...</td>\n",
       "      <td>[['invocation', 'invoker', 'attachment', 'argu...</td>\n",
       "      <td>[['service', 'see', 'issue', 'sample', 'projec...</td>\n",
       "    </tr>\n",
       "    <tr>\n",
       "      <th>3</th>\n",
       "      <td>01_dubbo</td>\n",
       "      <td>dubbo-config</td>\n",
       "      <td>[['application', 'model', 'module', 'context',...</td>\n",
       "      <td>[['application', 'model', 'module', 'context',...</td>\n",
       "      <td>[['service', 'see', 'issue', 'sample', 'projec...</td>\n",
       "    </tr>\n",
       "    <tr>\n",
       "      <th>4</th>\n",
       "      <td>01_dubbo</td>\n",
       "      <td>dubbo-configcenter</td>\n",
       "      <td>[['dynamic', 'factory', 'url', 'zookeeper', 'a...</td>\n",
       "      <td>[['dynamic', 'factory', 'url', 'zookeeper', 'a...</td>\n",
       "      <td>[['service', 'see', 'issue', 'sample', 'projec...</td>\n",
       "    </tr>\n",
       "  </tbody>\n",
       "</table>\n",
       "</div>"
      ],
      "text/plain": [
       "  project_name              module  \\\n",
       "0     01_dubbo       dubbo-cluster   \n",
       "1     01_dubbo        dubbo-common   \n",
       "2     01_dubbo    dubbo-compatible   \n",
       "3     01_dubbo        dubbo-config   \n",
       "4     01_dubbo  dubbo-configcenter   \n",
       "\n",
       "                                         code_topics  \\\n",
       "0  [['merger', 'model', 'scope', 'aware', 'end', ...   \n",
       "1  [['map', 'extension', 'loader', 'property', 'm...   \n",
       "2  [['invocation', 'invoker', 'attachment', 'argu...   \n",
       "3  [['application', 'model', 'module', 'context',...   \n",
       "4  [['dynamic', 'factory', 'url', 'zookeeper', 'a...   \n",
       "\n",
       "                                         test_topics  \\\n",
       "0  [['merger', 'model', 'scope', 'aware', 'end', ...   \n",
       "1  [['map', 'extension', 'loader', 'property', 'm...   \n",
       "2  [['invocation', 'invoker', 'attachment', 'argu...   \n",
       "3  [['application', 'model', 'module', 'context',...   \n",
       "4  [['dynamic', 'factory', 'url', 'zookeeper', 'a...   \n",
       "\n",
       "                                          doc_topics  \n",
       "0  [['service', 'see', 'issue', 'sample', 'projec...  \n",
       "1  [['service', 'see', 'issue', 'sample', 'projec...  \n",
       "2  [['service', 'see', 'issue', 'sample', 'projec...  \n",
       "3  [['service', 'see', 'issue', 'sample', 'projec...  \n",
       "4  [['service', 'see', 'issue', 'sample', 'projec...  "
      ]
     },
     "execution_count": 1,
     "metadata": {},
     "output_type": "execute_result"
    }
   ],
   "source": [
    "import pandas as pd\n",
    "# pd.set_option('display.max_colwidth', None)\n",
    "\n",
    "topics_df = pd.read_csv(\"topics_res_df.csv\")\n",
    "topics_df = topics_df[[\"project_name\", \"module\", \"code_topics\", \"test_topics\", \"doc_topics\"]]\n",
    "topics_df.head()"
   ]
  },
  {
   "cell_type": "markdown",
   "metadata": {},
   "source": [
    "## Show annotated modules"
   ]
  },
  {
   "cell_type": "code",
   "execution_count": 2,
   "metadata": {},
   "outputs": [
    {
     "data": {
      "text/html": [
       "<div>\n",
       "<style scoped>\n",
       "    .dataframe tbody tr th:only-of-type {\n",
       "        vertical-align: middle;\n",
       "    }\n",
       "\n",
       "    .dataframe tbody tr th {\n",
       "        vertical-align: top;\n",
       "    }\n",
       "\n",
       "    .dataframe thead th {\n",
       "        text-align: right;\n",
       "    }\n",
       "</style>\n",
       "<table border=\"1\" class=\"dataframe\">\n",
       "  <thead>\n",
       "    <tr style=\"text-align: right;\">\n",
       "      <th></th>\n",
       "      <th>project</th>\n",
       "      <th>module</th>\n",
       "      <th>top</th>\n",
       "      <th>labels</th>\n",
       "    </tr>\n",
       "  </thead>\n",
       "  <tbody>\n",
       "    <tr>\n",
       "      <th>0</th>\n",
       "      <td>dubbo</td>\n",
       "      <td>dubbo-test</td>\n",
       "      <td>software testing</td>\n",
       "      <td>['software testing', 'unit testing', 'file sys...</td>\n",
       "    </tr>\n",
       "    <tr>\n",
       "      <th>1</th>\n",
       "      <td>skywalking</td>\n",
       "      <td>apm-protocol</td>\n",
       "      <td>server</td>\n",
       "      <td>['server', 'plot', 'instant messaging', 'websi...</td>\n",
       "    </tr>\n",
       "    <tr>\n",
       "      <th>2</th>\n",
       "      <td>flink</td>\n",
       "      <td>flink-libraries</td>\n",
       "      <td>information processing</td>\n",
       "      <td>['information processing', 'database', 'big da...</td>\n",
       "    </tr>\n",
       "    <tr>\n",
       "      <th>3</th>\n",
       "      <td>rocketmq</td>\n",
       "      <td>remoting</td>\n",
       "      <td>smart contract</td>\n",
       "      <td>['smart contract', 'penetration test', 'back e...</td>\n",
       "    </tr>\n",
       "    <tr>\n",
       "      <th>4</th>\n",
       "      <td>shardingsphere</td>\n",
       "      <td>examples</td>\n",
       "      <td>database</td>\n",
       "      <td>['database', 'instant messaging', 'data bindin...</td>\n",
       "    </tr>\n",
       "  </tbody>\n",
       "</table>\n",
       "</div>"
      ],
      "text/plain": [
       "          project           module                     top  \\\n",
       "0           dubbo       dubbo-test        software testing   \n",
       "1      skywalking     apm-protocol                  server   \n",
       "2           flink  flink-libraries  information processing   \n",
       "3        rocketmq         remoting          smart contract   \n",
       "4  shardingsphere         examples                database   \n",
       "\n",
       "                                              labels  \n",
       "0  ['software testing', 'unit testing', 'file sys...  \n",
       "1  ['server', 'plot', 'instant messaging', 'websi...  \n",
       "2  ['information processing', 'database', 'big da...  \n",
       "3  ['smart contract', 'penetration test', 'back e...  \n",
       "4  ['database', 'instant messaging', 'data bindin...  "
      ]
     },
     "execution_count": 2,
     "metadata": {},
     "output_type": "execute_result"
    }
   ],
   "source": [
    "anno_df = pd.read_csv(\"module_annotation.csv\")\n",
    "anno_df = anno_df[[\"project\", \"module\", \"top\", \"labels\"]]\n",
    "anno_df.head()"
   ]
  },
  {
   "cell_type": "markdown",
   "metadata": {},
   "source": [
    "## LLM Prompts to do matching"
   ]
  },
  {
   "cell_type": "code",
   "execution_count": null,
   "metadata": {},
   "outputs": [],
   "source": []
  },
  {
   "cell_type": "code",
   "execution_count": null,
   "metadata": {},
   "outputs": [],
   "source": []
  },
  {
   "cell_type": "code",
   "execution_count": null,
   "metadata": {},
   "outputs": [],
   "source": []
  }
 ],
 "metadata": {
  "kernelspec": {
   "display_name": "Python 3",
   "language": "python",
   "name": "python3"
  },
  "language_info": {
   "codemirror_mode": {
    "name": "ipython",
    "version": 3
   },
   "file_extension": ".py",
   "mimetype": "text/x-python",
   "name": "python",
   "nbconvert_exporter": "python",
   "pygments_lexer": "ipython3",
   "version": "3.11.6"
  }
 },
 "nbformat": 4,
 "nbformat_minor": 2
}
