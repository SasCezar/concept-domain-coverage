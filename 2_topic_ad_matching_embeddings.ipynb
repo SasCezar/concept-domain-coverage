{
 "cells": [
  {
   "cell_type": "markdown",
   "metadata": {},
   "source": [
    "## Concept/Domain coverage analysis: Matching with App Domains\n",
    "\n",
    "This notebook extracts corpus keywords and analyse the concepts emerging from three sources: source code, documentation and tests"
   ]
  },
  {
   "cell_type": "markdown",
   "metadata": {},
   "source": [
    "## Show topics"
   ]
  },
  {
   "cell_type": "code",
   "execution_count": 39,
   "metadata": {
    "scrolled": true
   },
   "outputs": [
    {
     "data": {
      "text/html": [
       "<div>\n",
       "<style scoped>\n",
       "    .dataframe tbody tr th:only-of-type {\n",
       "        vertical-align: middle;\n",
       "    }\n",
       "\n",
       "    .dataframe tbody tr th {\n",
       "        vertical-align: top;\n",
       "    }\n",
       "\n",
       "    .dataframe thead th {\n",
       "        text-align: right;\n",
       "    }\n",
       "</style>\n",
       "<table border=\"1\" class=\"dataframe\">\n",
       "  <thead>\n",
       "    <tr style=\"text-align: right;\">\n",
       "      <th></th>\n",
       "      <th>project_name</th>\n",
       "      <th>module</th>\n",
       "      <th>code_num_topics</th>\n",
       "      <th>test_num_topics</th>\n",
       "      <th>code_shown_topics</th>\n",
       "      <th>code_topics</th>\n",
       "      <th>test_shown_topics</th>\n",
       "      <th>test_topics</th>\n",
       "      <th>doc_num_topics</th>\n",
       "      <th>doc_shown_topics</th>\n",
       "      <th>doc_topics</th>\n",
       "    </tr>\n",
       "  </thead>\n",
       "  <tbody>\n",
       "    <tr>\n",
       "      <th>20</th>\n",
       "      <td>03_flink</td>\n",
       "      <td>flink-clients</td>\n",
       "      <td>8</td>\n",
       "      <td>9</td>\n",
       "      <td>[(0, [('jar', 0.10477287), ('url', 0.06690521)...</td>\n",
       "      <td>[['jar', 'url', 'entry', 'program', 'setting',...</td>\n",
       "      <td>[(0, [('cluster', 0.11344488), ('factory', 0.0...</td>\n",
       "      <td>[['jar', 'url', 'entry', 'program', 'setting',...</td>\n",
       "      <td>9</td>\n",
       "      <td>[(0, [('scala', 0.0055014915), ('processing', ...</td>\n",
       "      <td>[['scala', 'processing', 'java', 'intellij', '...</td>\n",
       "    </tr>\n",
       "    <tr>\n",
       "      <th>21</th>\n",
       "      <td>03_flink</td>\n",
       "      <td>flink-connectors</td>\n",
       "      <td>9</td>\n",
       "      <td>9</td>\n",
       "      <td>[(0, [('split', 0.17729564), ('source', 0.0911...</td>\n",
       "      <td>[['split', 'source', 'reader', 'hive', 'partit...</td>\n",
       "      <td>[(0, [('kafka', 0.047333054), ('partition', 0....</td>\n",
       "      <td>[['split', 'source', 'reader', 'hive', 'partit...</td>\n",
       "      <td>9</td>\n",
       "      <td>[(0, [('scala', 0.0055014915), ('processing', ...</td>\n",
       "      <td>[['scala', 'processing', 'java', 'intellij', '...</td>\n",
       "    </tr>\n",
       "    <tr>\n",
       "      <th>22</th>\n",
       "      <td>03_flink</td>\n",
       "      <td>flink-container</td>\n",
       "      <td>5</td>\n",
       "      <td>6</td>\n",
       "      <td>[(0, [('cluster', 0.043478318), ('application'...</td>\n",
       "      <td>[['cluster', 'application', 'entry', 'line', '...</td>\n",
       "      <td>[(0, [('application', 0.08333337), ('standalon...</td>\n",
       "      <td>[['cluster', 'application', 'entry', 'line', '...</td>\n",
       "      <td>9</td>\n",
       "      <td>[(0, [('scala', 0.0055014915), ('processing', ...</td>\n",
       "      <td>[['scala', 'processing', 'java', 'intellij', '...</td>\n",
       "    </tr>\n",
       "    <tr>\n",
       "      <th>23</th>\n",
       "      <td>03_flink</td>\n",
       "      <td>flink-contrib</td>\n",
       "      <td>9</td>\n",
       "      <td>8</td>\n",
       "      <td>[(0, [('event', 0.015625862), ('edit', 0.01559...</td>\n",
       "      <td>[['event', 'edit', 'diff', 'timestamp', 'chann...</td>\n",
       "      <td>[(0, [('context', 0.04166667), ('source', 0.04...</td>\n",
       "      <td>[['event', 'edit', 'diff', 'timestamp', 'chann...</td>\n",
       "      <td>9</td>\n",
       "      <td>[(0, [('scala', 0.0055014915), ('processing', ...</td>\n",
       "      <td>[['scala', 'processing', 'java', 'intellij', '...</td>\n",
       "    </tr>\n",
       "    <tr>\n",
       "      <th>24</th>\n",
       "      <td>03_flink</td>\n",
       "      <td>flink-core</td>\n",
       "      <td>7</td>\n",
       "      <td>9</td>\n",
       "      <td>[(0, [('key', 0.10738443), ('comparator', 0.09...</td>\n",
       "      <td>[['key', 'comparator', 'value', 'normalize', '...</td>\n",
       "      <td>[(0, [('map', 0.13233617), ('integer', 0.10897...</td>\n",
       "      <td>[['key', 'comparator', 'value', 'normalize', '...</td>\n",
       "      <td>9</td>\n",
       "      <td>[(0, [('scala', 0.0055014915), ('processing', ...</td>\n",
       "      <td>[['scala', 'processing', 'java', 'intellij', '...</td>\n",
       "    </tr>\n",
       "  </tbody>\n",
       "</table>\n",
       "</div>"
      ],
      "text/plain": [
       "   project_name            module  code_num_topics  test_num_topics   \n",
       "20     03_flink     flink-clients                8                9  \\\n",
       "21     03_flink  flink-connectors                9                9   \n",
       "22     03_flink   flink-container                5                6   \n",
       "23     03_flink     flink-contrib                9                8   \n",
       "24     03_flink        flink-core                7                9   \n",
       "\n",
       "                                    code_shown_topics   \n",
       "20  [(0, [('jar', 0.10477287), ('url', 0.06690521)...  \\\n",
       "21  [(0, [('split', 0.17729564), ('source', 0.0911...   \n",
       "22  [(0, [('cluster', 0.043478318), ('application'...   \n",
       "23  [(0, [('event', 0.015625862), ('edit', 0.01559...   \n",
       "24  [(0, [('key', 0.10738443), ('comparator', 0.09...   \n",
       "\n",
       "                                          code_topics   \n",
       "20  [['jar', 'url', 'entry', 'program', 'setting',...  \\\n",
       "21  [['split', 'source', 'reader', 'hive', 'partit...   \n",
       "22  [['cluster', 'application', 'entry', 'line', '...   \n",
       "23  [['event', 'edit', 'diff', 'timestamp', 'chann...   \n",
       "24  [['key', 'comparator', 'value', 'normalize', '...   \n",
       "\n",
       "                                    test_shown_topics   \n",
       "20  [(0, [('cluster', 0.11344488), ('factory', 0.0...  \\\n",
       "21  [(0, [('kafka', 0.047333054), ('partition', 0....   \n",
       "22  [(0, [('application', 0.08333337), ('standalon...   \n",
       "23  [(0, [('context', 0.04166667), ('source', 0.04...   \n",
       "24  [(0, [('map', 0.13233617), ('integer', 0.10897...   \n",
       "\n",
       "                                          test_topics  doc_num_topics   \n",
       "20  [['jar', 'url', 'entry', 'program', 'setting',...               9  \\\n",
       "21  [['split', 'source', 'reader', 'hive', 'partit...               9   \n",
       "22  [['cluster', 'application', 'entry', 'line', '...               9   \n",
       "23  [['event', 'edit', 'diff', 'timestamp', 'chann...               9   \n",
       "24  [['key', 'comparator', 'value', 'normalize', '...               9   \n",
       "\n",
       "                                     doc_shown_topics   \n",
       "20  [(0, [('scala', 0.0055014915), ('processing', ...  \\\n",
       "21  [(0, [('scala', 0.0055014915), ('processing', ...   \n",
       "22  [(0, [('scala', 0.0055014915), ('processing', ...   \n",
       "23  [(0, [('scala', 0.0055014915), ('processing', ...   \n",
       "24  [(0, [('scala', 0.0055014915), ('processing', ...   \n",
       "\n",
       "                                           doc_topics  \n",
       "20  [['scala', 'processing', 'java', 'intellij', '...  \n",
       "21  [['scala', 'processing', 'java', 'intellij', '...  \n",
       "22  [['scala', 'processing', 'java', 'intellij', '...  \n",
       "23  [['scala', 'processing', 'java', 'intellij', '...  \n",
       "24  [['scala', 'processing', 'java', 'intellij', '...  "
      ]
     },
     "execution_count": 39,
     "metadata": {},
     "output_type": "execute_result"
    }
   ],
   "source": [
    "import pandas as pd\n",
    "# pd.set_option('display.max_colwidth', None)\n",
    "\n",
    "topics_df = pd.read_csv(\"topics_res_df.csv\")\n",
    "# topics_df = topics_df[[\"project_name\", \"module\", \"code_topics\", \"test_topics\", \"doc_topics\"]]\n",
    "topics_df[20:25]"
   ]
  },
  {
   "cell_type": "markdown",
   "metadata": {},
   "source": [
    "## Show annotated modules"
   ]
  },
  {
   "cell_type": "code",
   "execution_count": 40,
   "metadata": {},
   "outputs": [
    {
     "data": {
      "text/html": [
       "<div>\n",
       "<style scoped>\n",
       "    .dataframe tbody tr th:only-of-type {\n",
       "        vertical-align: middle;\n",
       "    }\n",
       "\n",
       "    .dataframe tbody tr th {\n",
       "        vertical-align: top;\n",
       "    }\n",
       "\n",
       "    .dataframe thead th {\n",
       "        text-align: right;\n",
       "    }\n",
       "</style>\n",
       "<table border=\"1\" class=\"dataframe\">\n",
       "  <thead>\n",
       "    <tr style=\"text-align: right;\">\n",
       "      <th></th>\n",
       "      <th>project</th>\n",
       "      <th>module</th>\n",
       "      <th>top</th>\n",
       "      <th>labels</th>\n",
       "    </tr>\n",
       "  </thead>\n",
       "  <tbody>\n",
       "    <tr>\n",
       "      <th>0</th>\n",
       "      <td>dubbo</td>\n",
       "      <td>dubbo-configcenter</td>\n",
       "      <td>big data</td>\n",
       "      <td>['big data', 'instant messaging', 'user interf...</td>\n",
       "    </tr>\n",
       "    <tr>\n",
       "      <th>1</th>\n",
       "      <td>dubbo</td>\n",
       "      <td>dubbo-remoting</td>\n",
       "      <td>server</td>\n",
       "      <td>['server', 'instant messaging', 'web service',...</td>\n",
       "    </tr>\n",
       "    <tr>\n",
       "      <th>2</th>\n",
       "      <td>dubbo</td>\n",
       "      <td>dubbo-spring-boot</td>\n",
       "      <td>microservices</td>\n",
       "      <td>['microservices', 'web service', 'instant mess...</td>\n",
       "    </tr>\n",
       "    <tr>\n",
       "      <th>3</th>\n",
       "      <td>dubbo</td>\n",
       "      <td>dubbo-serialization</td>\n",
       "      <td>serialization</td>\n",
       "      <td>['serialization', 'database', 'file system', '...</td>\n",
       "    </tr>\n",
       "    <tr>\n",
       "      <th>4</th>\n",
       "      <td>dubbo</td>\n",
       "      <td>dubbo-native</td>\n",
       "      <td>web server</td>\n",
       "      <td>['web server', 'instant messaging', 'web servi...</td>\n",
       "    </tr>\n",
       "  </tbody>\n",
       "</table>\n",
       "</div>"
      ],
      "text/plain": [
       "  project               module            top   \n",
       "0   dubbo   dubbo-configcenter       big data  \\\n",
       "1   dubbo       dubbo-remoting         server   \n",
       "2   dubbo    dubbo-spring-boot  microservices   \n",
       "3   dubbo  dubbo-serialization  serialization   \n",
       "4   dubbo         dubbo-native     web server   \n",
       "\n",
       "                                              labels  \n",
       "0  ['big data', 'instant messaging', 'user interf...  \n",
       "1  ['server', 'instant messaging', 'web service',...  \n",
       "2  ['microservices', 'web service', 'instant mess...  \n",
       "3  ['serialization', 'database', 'file system', '...  \n",
       "4  ['web server', 'instant messaging', 'web servi...  "
      ]
     },
     "execution_count": 40,
     "metadata": {},
     "output_type": "execute_result"
    }
   ],
   "source": [
    "anno_df = pd.read_csv(\"module_annotation.csv\")\n",
    "anno_df = anno_df[[\"project\", \"module\", \"top\", \"labels\"]]\n",
    "anno_df.head()"
   ]
  },
  {
   "cell_type": "code",
   "execution_count": 41,
   "metadata": {},
   "outputs": [
    {
     "name": "stdout",
     "output_type": "stream",
     "text": [
      "<class 'pandas.core.frame.DataFrame'>\n",
      "RangeIndex: 483 entries, 0 to 482\n",
      "Data columns (total 4 columns):\n",
      " #   Column   Non-Null Count  Dtype \n",
      "---  ------   --------------  ----- \n",
      " 0   project  483 non-null    object\n",
      " 1   module   483 non-null    object\n",
      " 2   top      483 non-null    object\n",
      " 3   labels   483 non-null    object\n",
      "dtypes: object(4)\n",
      "memory usage: 15.2+ KB\n"
     ]
    }
   ],
   "source": [
    "anno_df.info()"
   ]
  },
  {
   "cell_type": "markdown",
   "metadata": {},
   "source": [
    "## Take a subset of df as test"
   ]
  },
  {
   "cell_type": "code",
   "execution_count": 42,
   "metadata": {},
   "outputs": [
    {
     "data": {
      "text/html": [
       "<div>\n",
       "<style scoped>\n",
       "    .dataframe tbody tr th:only-of-type {\n",
       "        vertical-align: middle;\n",
       "    }\n",
       "\n",
       "    .dataframe tbody tr th {\n",
       "        vertical-align: top;\n",
       "    }\n",
       "\n",
       "    .dataframe thead th {\n",
       "        text-align: right;\n",
       "    }\n",
       "</style>\n",
       "<table border=\"1\" class=\"dataframe\">\n",
       "  <thead>\n",
       "    <tr style=\"text-align: right;\">\n",
       "      <th></th>\n",
       "      <th>project_name</th>\n",
       "      <th>module</th>\n",
       "      <th>code_num_topics</th>\n",
       "      <th>test_num_topics</th>\n",
       "      <th>code_shown_topics</th>\n",
       "      <th>code_topics</th>\n",
       "      <th>test_shown_topics</th>\n",
       "      <th>test_topics</th>\n",
       "      <th>doc_num_topics</th>\n",
       "      <th>doc_shown_topics</th>\n",
       "      <th>doc_topics</th>\n",
       "    </tr>\n",
       "  </thead>\n",
       "  <tbody>\n",
       "    <tr>\n",
       "      <th>17</th>\n",
       "      <td>02_skywalking</td>\n",
       "      <td>apm-protocol</td>\n",
       "      <td>8</td>\n",
       "      <td>1</td>\n",
       "      <td>[(0, [('command', 0.0175439), ('serializable',...</td>\n",
       "      <td>[['command', 'serializable', 'deserializable',...</td>\n",
       "      <td>[(0, [('command', 0.11111111), ('complete', 0....</td>\n",
       "      <td>[['command', 'serializable', 'deserializable',...</td>\n",
       "      <td>9</td>\n",
       "      <td>[(0, [('trace', 0.0060752206), ('support', 0.0...</td>\n",
       "      <td>[['trace', 'support', 'metric', 'mail', 'nativ...</td>\n",
       "    </tr>\n",
       "  </tbody>\n",
       "</table>\n",
       "</div>"
      ],
      "text/plain": [
       "     project_name        module  code_num_topics  test_num_topics   \n",
       "17  02_skywalking  apm-protocol                8                1  \\\n",
       "\n",
       "                                    code_shown_topics   \n",
       "17  [(0, [('command', 0.0175439), ('serializable',...  \\\n",
       "\n",
       "                                          code_topics   \n",
       "17  [['command', 'serializable', 'deserializable',...  \\\n",
       "\n",
       "                                    test_shown_topics   \n",
       "17  [(0, [('command', 0.11111111), ('complete', 0....  \\\n",
       "\n",
       "                                          test_topics  doc_num_topics   \n",
       "17  [['command', 'serializable', 'deserializable',...               9  \\\n",
       "\n",
       "                                     doc_shown_topics   \n",
       "17  [(0, [('trace', 0.0060752206), ('support', 0.0...  \\\n",
       "\n",
       "                                           doc_topics  \n",
       "17  [['trace', 'support', 'metric', 'mail', 'nativ...  "
      ]
     },
     "execution_count": 42,
     "metadata": {},
     "output_type": "execute_result"
    }
   ],
   "source": [
    "# skywalking apm-protocol as an example\n",
    "\n",
    "topics_sub_df = topics_df[topics_df[\"module\"]==\"apm-protocol\"]\n",
    "topics_sub_df"
   ]
  },
  {
   "cell_type": "code",
   "execution_count": 43,
   "metadata": {},
   "outputs": [
    {
     "data": {
      "text/html": [
       "<div>\n",
       "<style scoped>\n",
       "    .dataframe tbody tr th:only-of-type {\n",
       "        vertical-align: middle;\n",
       "    }\n",
       "\n",
       "    .dataframe tbody tr th {\n",
       "        vertical-align: top;\n",
       "    }\n",
       "\n",
       "    .dataframe thead th {\n",
       "        text-align: right;\n",
       "    }\n",
       "</style>\n",
       "<table border=\"1\" class=\"dataframe\">\n",
       "  <thead>\n",
       "    <tr style=\"text-align: right;\">\n",
       "      <th></th>\n",
       "      <th>project</th>\n",
       "      <th>module</th>\n",
       "      <th>top</th>\n",
       "      <th>labels</th>\n",
       "    </tr>\n",
       "  </thead>\n",
       "  <tbody>\n",
       "    <tr>\n",
       "      <th>26</th>\n",
       "      <td>skywalking</td>\n",
       "      <td>apm-protocol</td>\n",
       "      <td>server</td>\n",
       "      <td>['server', 'plot', 'instant messaging', 'websi...</td>\n",
       "    </tr>\n",
       "  </tbody>\n",
       "</table>\n",
       "</div>"
      ],
      "text/plain": [
       "       project        module     top   \n",
       "26  skywalking  apm-protocol  server  \\\n",
       "\n",
       "                                               labels  \n",
       "26  ['server', 'plot', 'instant messaging', 'websi...  "
      ]
     },
     "execution_count": 43,
     "metadata": {},
     "output_type": "execute_result"
    }
   ],
   "source": [
    "anno_sub_df = anno_df[anno_df[\"module\"]==\"apm-protocol\"]\n",
    "anno_sub_df"
   ]
  },
  {
   "cell_type": "code",
   "execution_count": 44,
   "metadata": {},
   "outputs": [
    {
     "name": "stdout",
     "output_type": "stream",
     "text": [
      "<class 'pandas.core.frame.DataFrame'>\n",
      "RangeIndex: 1 entries, 0 to 0\n",
      "Data columns (total 13 columns):\n",
      " #   Column             Non-Null Count  Dtype \n",
      "---  ------             --------------  ----- \n",
      " 0   project_name       1 non-null      object\n",
      " 1   module             1 non-null      object\n",
      " 2   code_num_topics    1 non-null      int64 \n",
      " 3   test_num_topics    1 non-null      int64 \n",
      " 4   code_shown_topics  1 non-null      object\n",
      " 5   code_topics        1 non-null      object\n",
      " 6   test_shown_topics  1 non-null      object\n",
      " 7   test_topics        1 non-null      object\n",
      " 8   doc_num_topics     1 non-null      int64 \n",
      " 9   doc_shown_topics   1 non-null      object\n",
      " 10  doc_topics         1 non-null      object\n",
      " 11  top                1 non-null      object\n",
      " 12  labels             1 non-null      object\n",
      "dtypes: int64(3), object(10)\n",
      "memory usage: 236.0+ bytes\n"
     ]
    }
   ],
   "source": [
    "# pd.set_option('display.max_colwidth', None)\n",
    "module_df = topics_sub_df.merge(anno_sub_df).drop(columns=[\"project\"])\n",
    "module_df.info()"
   ]
  },
  {
   "cell_type": "markdown",
   "metadata": {},
   "source": [
    "## LLM Matching of AD to Concepts"
   ]
  },
  {
   "cell_type": "markdown",
   "metadata": {},
   "source": [
    "### Using embeddings then calculate semantic similarity to match with domains\n",
    "\n",
    "- StackOverflow w2v\n",
    "- BERT\n",
    "- ELMo"
   ]
  },
  {
   "cell_type": "markdown",
   "metadata": {},
   "source": [
    "### StackOverflow W2V"
   ]
  },
  {
   "cell_type": "code",
   "execution_count": 45,
   "metadata": {},
   "outputs": [],
   "source": [
    "from gensim.models.keyedvectors import KeyedVectors\n",
    "\n",
    "so_w2v_model = KeyedVectors.load_word2vec_format('C:/Users/biadge/OneDrive - BP/PhD/extraction/SO_vectors_200.bin', binary=True)"
   ]
  },
  {
   "cell_type": "code",
   "execution_count": 46,
   "metadata": {},
   "outputs": [
    {
     "data": {
      "text/plain": [
       "0.1252212"
      ]
     },
     "execution_count": 46,
     "metadata": {},
     "output_type": "execute_result"
    }
   ],
   "source": [
    "# test\n",
    "so_w2v_model.n_similarity(['test', 'case'], ['quality'])"
   ]
  },
  {
   "cell_type": "code",
   "execution_count": 47,
   "metadata": {},
   "outputs": [],
   "source": [
    "concept_list = module_df['code_topics'][0]\n",
    "domains = module_df['labels'][0]"
   ]
  },
  {
   "cell_type": "code",
   "execution_count": 48,
   "metadata": {},
   "outputs": [
    {
     "data": {
      "text/plain": [
       "\"[['command', 'serializable', 'deserializable', 'task', 'number', 'builder', 'profile', 'duration', 'max', 'network'], ['command', 'builder', 'number', 'runtime', 'unsupported', 'path', 'add', 'serializable', 'serialize', 'trace'], ['trigger', 'ebpf', 'fix', 'gson', 'extension', 'process', 'update', 'target', 'task', 'command'], ['task', 'profile', 'command', 'duration', 'time', 'min', 'max', 'endpoint', 'count', 'dump'], ['command', 'discovery', 'uuid', 'number', 'deserializable', 'serializable', 'key', 'value', 'pair', 'deserialize'], ['command', 'serializable', 'deserializable', 'profile', 'number', 'duration', 'builder', 'task', 'unsupported', 'uuid'], ['setting', 'integer', 'network', 'rule', 'max', 'size', 'request', 'require', 'response', 'sample'], ['command', 'serializable', 'deserializable', 'number', 'builder', 'task', 'profile', 'unsupported', 'deserializer', 'max']]\""
      ]
     },
     "execution_count": 48,
     "metadata": {},
     "output_type": "execute_result"
    }
   ],
   "source": [
    "concept_list"
   ]
  },
  {
   "cell_type": "code",
   "execution_count": 49,
   "metadata": {},
   "outputs": [
    {
     "data": {
      "text/plain": [
       "\"['server', 'plot', 'instant messaging', 'website', 'file system', 'web server', 'database', 'command-line interface', 'World Wide Web', 'package management system', 'application performance management', 'client', 'web service', 'File Transfer Protocol', 'shell tool', 'user interface', 'telecommunications network', 'HTTP server', 'computer configuration', 'data binding', 'big data', 'extract, transform, load', 'object detection', 'data', 'security', 'web application', 'regular expression', 'data structure', 'web application security', 'smart contract', 'statistics', 'machine translation', 'social network', 'pattern matching', 'network monitoring', 'microservices', 'network security', 'time series', 'continuous integration', 'analytics', 'automation', 'object–relational mapping', 'HTTP client', 'neural machine translation', 'password manager', 'back end', 'operating system', 'WebSocket', 'embedded system', 'game server', 'font', 'evolutionary algorithm', 'data visualization', 'face detection', 'data science', 'facial recognition system', 'finance', 'distributed database', 'front end', 'database management', 'functional programming', 'data compression', 'game engine', 'game', 'genetic algorithm', 'genomics', 'geographic information system', 'data mining', 'engineering', 'encryption', 'debugger', 'distributed computing', 'digital security', 'data analysis', 'distributed multimedia communications platform', 'distributed system', 'documentation', 'digital image processing', 'digital audio', 'design', 'e-commerce', 'dependency injection', 'education', 'electronic trading platform', 'deep neural network', 'deep learning', 'email', 'debugging', 'word embedding', 'computer data storage', 'cryptography', 'automated machine learning', 'augmented reality', 'audio signal processing', 'audio player software', 'artificial neural network', 'artificial intelligence', 'anomaly detection', 'animation', 'algorithmic trading', 'algorithm', 'Web Components', 'Semantic Web', 'Reverse engineering', 'RNA sequencing', 'Q-learning', 'Parser combinator', 'Naive Bayes classifier', 'Malware Analysis', 'Kalman filter', 'Image analysis', 'IRC bot', 'DevOps', 'Containerization', 'Bidirectional recurrent neural networks', 'Bayesian inference', '3D modeling', 'authentication', 'autonomous driving', 'cryptocurrency', 'backup', 'convolutional neural network', 'continuous deployment', 'continuous delivery', 'content management system', 'computer vision', 'computer science', 'computer programming', 'computer graphics', 'geometry', 'computer benchmarking', 'computational science', 'computational biology', 'compiler', 'code generation', 'cluster analysis', 'cloud computing', 'classification', 'chatbot', 'camera', 'business dashboard', 'blockchain', 'bitcoin', 'bioinformatics', 'benchmark', 'banking industry', 'geographic information', 'information extraction', 'graph algorithm', 'simulation', 'static site generator', 'static program analysis', 'static program analysis tool', 'speech synthesis', 'speech recognition', 'sorting algorithm', 'software testing', 'software engineering', 'software development', 'software design pattern', 'software architecture', 'simulator', 'signal processing', 'stream processing', 'serverless computing', 'serialization', 'sequencing', 'sentiment analysis', 'semi-supervised learning', 'search', 'search engine', 'science', 'schema migration', 'scheduler', 'routing', 'router', 'stock market', 'streaming media', 'rendering', 'video game', 'web scraping', 'web development', 'web crawler', 'web browser', 'web browser engine', 'visualization', 'virtualization', 'virtual reality', 'virtual machine', 'video', 'video tracking', 'video processing', 'video game development', 'support vector machine', 'validator', 'unit testing', 'translation', 'transfer learning', 'topic modeling', 'text processing', 'text mining', 'text editor', 'text classification', 'test automation', 'syntax highlighting', 'synchronization', 'robotics', 'reinforcement learning', 'graph database', 'information retrieval', 'logistic regression model', 'logging', 'linear regression', 'linear algebra', 'lexical analysis', 'language model', 'knowledge graph', 'kernel', 'interpreter', 'internet of things', 'internet bot', 'integrated development environment', 'information processing', 'machine learning', 'image', 'image segmentation', 'image recognition', 'image editing', 'image compression', 'image classification', 'image captioning', 'hyperparameter optimization', 'home automation', 'hacking tool', 'graphical user interface', 'graph', 'long short-term memory', 'malware', 'regression analysis', 'object-oriented programming', 'recurrent neural network', 'recommender system', 'real-time computing', 'reactive programming', 'random forest', 'question answering', 'quantum computer', 'productivity', 'physics', 'penetration test', 'parsing', 'optical character recognition', 'neural network', 'mathematical finance', 'network analysis', 'natural language', 'natural language understanding', 'natural language processing', 'named-entity recognition', 'music', 'multiplayer game', 'mobile computing', 'mobile application development', 'middleware', 'mathematics', 'mathematical optimization', '3D computer graphics']\""
      ]
     },
     "execution_count": 49,
     "metadata": {},
     "output_type": "execute_result"
    }
   ],
   "source": [
    "domains"
   ]
  },
  {
   "cell_type": "markdown",
   "metadata": {},
   "source": [
    "### using apm-protocol module as an example"
   ]
  },
  {
   "cell_type": "code",
   "execution_count": 104,
   "metadata": {},
   "outputs": [],
   "source": [
    "import ast\n",
    "\n",
    "cl = ast.literal_eval(concept_list)\n",
    "dl = ast.literal_eval(domains)"
   ]
  },
  {
   "cell_type": "code",
   "execution_count": 105,
   "metadata": {},
   "outputs": [],
   "source": [
    "def comp_con_domains(so_w2v_model, con, domains):\n",
    "    # list of domains should be given, now we return an array of similarity scores for all domains\n",
    "    sim_res = []\n",
    "\n",
    "    for dom in domains:\n",
    "        sim_res.append((dom, so_w2v_model.n_similarity(con, [dom])))\n",
    "\n",
    "    sim_df = pd.DataFrame(sim_res, columns=['domain','sim_score']).sort_values(by='sim_score', ascending=False)[:10].reset_index(drop=True)\n",
    "    # kv_res = sim_df.to_dict(orient='records')\n",
    "\n",
    "    return sim_df"
   ]
  },
  {
   "cell_type": "code",
   "execution_count": 106,
   "metadata": {},
   "outputs": [],
   "source": [
    "domain_res = []\n",
    "\n",
    "for con in cl:\n",
    "    df_res = comp_con_domains(so_w2v_model, con, dl)\n",
    "    df_res['concept'] = str(con)\n",
    "    df_res = df_res[['concept', 'domain', 'sim_score']]\n",
    "    domain_res.append(df_res)"
   ]
  },
  {
   "cell_type": "code",
   "execution_count": 107,
   "metadata": {},
   "outputs": [
    {
     "data": {
      "text/html": [
       "<div>\n",
       "<style scoped>\n",
       "    .dataframe tbody tr th:only-of-type {\n",
       "        vertical-align: middle;\n",
       "    }\n",
       "\n",
       "    .dataframe tbody tr th {\n",
       "        vertical-align: top;\n",
       "    }\n",
       "\n",
       "    .dataframe thead th {\n",
       "        text-align: right;\n",
       "    }\n",
       "</style>\n",
       "<table border=\"1\" class=\"dataframe\">\n",
       "  <thead>\n",
       "    <tr style=\"text-align: right;\">\n",
       "      <th></th>\n",
       "      <th>concept</th>\n",
       "      <th>domain</th>\n",
       "      <th>sim_score</th>\n",
       "    </tr>\n",
       "  </thead>\n",
       "  <tbody>\n",
       "    <tr>\n",
       "      <th>0</th>\n",
       "      <td>['command', 'serializable', 'deserializable', ...</td>\n",
       "      <td>data</td>\n",
       "      <td>0.434844</td>\n",
       "    </tr>\n",
       "    <tr>\n",
       "      <th>1</th>\n",
       "      <td>['command', 'serializable', 'deserializable', ...</td>\n",
       "      <td>database</td>\n",
       "      <td>0.424948</td>\n",
       "    </tr>\n",
       "    <tr>\n",
       "      <th>2</th>\n",
       "      <td>['command', 'serializable', 'deserializable', ...</td>\n",
       "      <td>server</td>\n",
       "      <td>0.420506</td>\n",
       "    </tr>\n",
       "    <tr>\n",
       "      <th>3</th>\n",
       "      <td>['command', 'serializable', 'deserializable', ...</td>\n",
       "      <td>client</td>\n",
       "      <td>0.399335</td>\n",
       "    </tr>\n",
       "    <tr>\n",
       "      <th>4</th>\n",
       "      <td>['command', 'serializable', 'deserializable', ...</td>\n",
       "      <td>scheduler</td>\n",
       "      <td>0.373519</td>\n",
       "    </tr>\n",
       "    <tr>\n",
       "      <th>5</th>\n",
       "      <td>['command', 'serializable', 'deserializable', ...</td>\n",
       "      <td>graph</td>\n",
       "      <td>0.368407</td>\n",
       "    </tr>\n",
       "    <tr>\n",
       "      <th>6</th>\n",
       "      <td>['command', 'serializable', 'deserializable', ...</td>\n",
       "      <td>statistics</td>\n",
       "      <td>0.363295</td>\n",
       "    </tr>\n",
       "    <tr>\n",
       "      <th>7</th>\n",
       "      <td>['command', 'serializable', 'deserializable', ...</td>\n",
       "      <td>kernel</td>\n",
       "      <td>0.329947</td>\n",
       "    </tr>\n",
       "    <tr>\n",
       "      <th>8</th>\n",
       "      <td>['command', 'serializable', 'deserializable', ...</td>\n",
       "      <td>simulation</td>\n",
       "      <td>0.329180</td>\n",
       "    </tr>\n",
       "    <tr>\n",
       "      <th>9</th>\n",
       "      <td>['command', 'serializable', 'deserializable', ...</td>\n",
       "      <td>image</td>\n",
       "      <td>0.276349</td>\n",
       "    </tr>\n",
       "  </tbody>\n",
       "</table>\n",
       "</div>"
      ],
      "text/plain": [
       "                                             concept      domain  sim_score\n",
       "0  ['command', 'serializable', 'deserializable', ...        data   0.434844\n",
       "1  ['command', 'serializable', 'deserializable', ...    database   0.424948\n",
       "2  ['command', 'serializable', 'deserializable', ...      server   0.420506\n",
       "3  ['command', 'serializable', 'deserializable', ...      client   0.399335\n",
       "4  ['command', 'serializable', 'deserializable', ...   scheduler   0.373519\n",
       "5  ['command', 'serializable', 'deserializable', ...       graph   0.368407\n",
       "6  ['command', 'serializable', 'deserializable', ...  statistics   0.363295\n",
       "7  ['command', 'serializable', 'deserializable', ...      kernel   0.329947\n",
       "8  ['command', 'serializable', 'deserializable', ...  simulation   0.329180\n",
       "9  ['command', 'serializable', 'deserializable', ...       image   0.276349"
      ]
     },
     "execution_count": 107,
     "metadata": {},
     "output_type": "execute_result"
    }
   ],
   "source": [
    "domain_res[0]"
   ]
  },
  {
   "cell_type": "code",
   "execution_count": 110,
   "metadata": {},
   "outputs": [
    {
     "data": {
      "text/html": [
       "<div>\n",
       "<style scoped>\n",
       "    .dataframe tbody tr th:only-of-type {\n",
       "        vertical-align: middle;\n",
       "    }\n",
       "\n",
       "    .dataframe tbody tr th {\n",
       "        vertical-align: top;\n",
       "    }\n",
       "\n",
       "    .dataframe thead th {\n",
       "        text-align: right;\n",
       "    }\n",
       "</style>\n",
       "<table border=\"1\" class=\"dataframe\">\n",
       "  <thead>\n",
       "    <tr style=\"text-align: right;\">\n",
       "      <th></th>\n",
       "      <th>concept</th>\n",
       "      <th>domain</th>\n",
       "      <th>sim_score</th>\n",
       "    </tr>\n",
       "  </thead>\n",
       "  <tbody>\n",
       "    <tr>\n",
       "      <th>0</th>\n",
       "      <td>['command', 'serializable', 'deserializable', 'task', 'number', 'builder', 'profile', 'duration', 'max', 'network']</td>\n",
       "      <td>data</td>\n",
       "      <td>0.434844</td>\n",
       "    </tr>\n",
       "    <tr>\n",
       "      <th>1</th>\n",
       "      <td>['command', 'serializable', 'deserializable', 'task', 'number', 'builder', 'profile', 'duration', 'max', 'network']</td>\n",
       "      <td>database</td>\n",
       "      <td>0.424948</td>\n",
       "    </tr>\n",
       "    <tr>\n",
       "      <th>2</th>\n",
       "      <td>['command', 'serializable', 'deserializable', 'task', 'number', 'builder', 'profile', 'duration', 'max', 'network']</td>\n",
       "      <td>server</td>\n",
       "      <td>0.420506</td>\n",
       "    </tr>\n",
       "    <tr>\n",
       "      <th>3</th>\n",
       "      <td>['command', 'serializable', 'deserializable', 'task', 'number', 'builder', 'profile', 'duration', 'max', 'network']</td>\n",
       "      <td>client</td>\n",
       "      <td>0.399335</td>\n",
       "    </tr>\n",
       "    <tr>\n",
       "      <th>4</th>\n",
       "      <td>['command', 'serializable', 'deserializable', 'task', 'number', 'builder', 'profile', 'duration', 'max', 'network']</td>\n",
       "      <td>scheduler</td>\n",
       "      <td>0.373519</td>\n",
       "    </tr>\n",
       "    <tr>\n",
       "      <th>...</th>\n",
       "      <td>...</td>\n",
       "      <td>...</td>\n",
       "      <td>...</td>\n",
       "    </tr>\n",
       "    <tr>\n",
       "      <th>75</th>\n",
       "      <td>['command', 'serializable', 'deserializable', 'number', 'builder', 'task', 'profile', 'unsupported', 'deserializer', 'max']</td>\n",
       "      <td>server</td>\n",
       "      <td>0.313291</td>\n",
       "    </tr>\n",
       "    <tr>\n",
       "      <th>76</th>\n",
       "      <td>['command', 'serializable', 'deserializable', 'number', 'builder', 'task', 'profile', 'unsupported', 'deserializer', 'max']</td>\n",
       "      <td>scheduler</td>\n",
       "      <td>0.304536</td>\n",
       "    </tr>\n",
       "    <tr>\n",
       "      <th>77</th>\n",
       "      <td>['command', 'serializable', 'deserializable', 'number', 'builder', 'task', 'profile', 'unsupported', 'deserializer', 'max']</td>\n",
       "      <td>graph</td>\n",
       "      <td>0.294039</td>\n",
       "    </tr>\n",
       "    <tr>\n",
       "      <th>78</th>\n",
       "      <td>['command', 'serializable', 'deserializable', 'number', 'builder', 'task', 'profile', 'unsupported', 'deserializer', 'max']</td>\n",
       "      <td>interpreter</td>\n",
       "      <td>0.274075</td>\n",
       "    </tr>\n",
       "    <tr>\n",
       "      <th>79</th>\n",
       "      <td>['command', 'serializable', 'deserializable', 'number', 'builder', 'task', 'profile', 'unsupported', 'deserializer', 'max']</td>\n",
       "      <td>kernel</td>\n",
       "      <td>0.252124</td>\n",
       "    </tr>\n",
       "  </tbody>\n",
       "</table>\n",
       "<p>80 rows × 3 columns</p>\n",
       "</div>"
      ],
      "text/plain": [
       "                                                                                                                        concept   \n",
       "0           ['command', 'serializable', 'deserializable', 'task', 'number', 'builder', 'profile', 'duration', 'max', 'network']  \\\n",
       "1           ['command', 'serializable', 'deserializable', 'task', 'number', 'builder', 'profile', 'duration', 'max', 'network']   \n",
       "2           ['command', 'serializable', 'deserializable', 'task', 'number', 'builder', 'profile', 'duration', 'max', 'network']   \n",
       "3           ['command', 'serializable', 'deserializable', 'task', 'number', 'builder', 'profile', 'duration', 'max', 'network']   \n",
       "4           ['command', 'serializable', 'deserializable', 'task', 'number', 'builder', 'profile', 'duration', 'max', 'network']   \n",
       "..                                                                                                                          ...   \n",
       "75  ['command', 'serializable', 'deserializable', 'number', 'builder', 'task', 'profile', 'unsupported', 'deserializer', 'max']   \n",
       "76  ['command', 'serializable', 'deserializable', 'number', 'builder', 'task', 'profile', 'unsupported', 'deserializer', 'max']   \n",
       "77  ['command', 'serializable', 'deserializable', 'number', 'builder', 'task', 'profile', 'unsupported', 'deserializer', 'max']   \n",
       "78  ['command', 'serializable', 'deserializable', 'number', 'builder', 'task', 'profile', 'unsupported', 'deserializer', 'max']   \n",
       "79  ['command', 'serializable', 'deserializable', 'number', 'builder', 'task', 'profile', 'unsupported', 'deserializer', 'max']   \n",
       "\n",
       "         domain  sim_score  \n",
       "0          data   0.434844  \n",
       "1      database   0.424948  \n",
       "2        server   0.420506  \n",
       "3        client   0.399335  \n",
       "4     scheduler   0.373519  \n",
       "..          ...        ...  \n",
       "75       server   0.313291  \n",
       "76    scheduler   0.304536  \n",
       "77        graph   0.294039  \n",
       "78  interpreter   0.274075  \n",
       "79       kernel   0.252124  \n",
       "\n",
       "[80 rows x 3 columns]"
      ]
     },
     "execution_count": 110,
     "metadata": {},
     "output_type": "execute_result"
    }
   ],
   "source": [
    "pd.set_option('display.max_colwidth', None)\n",
    "domain_match_df = pd.concat(domain_res).reset_index(drop=True)\n",
    "domain_match_df"
   ]
  }
 ],
 "metadata": {
  "kernelspec": {
   "display_name": "Python 3",
   "language": "python",
   "name": "python3"
  },
  "language_info": {
   "codemirror_mode": {
    "name": "ipython",
    "version": 3
   },
   "file_extension": ".py",
   "mimetype": "text/x-python",
   "name": "python",
   "nbconvert_exporter": "python",
   "pygments_lexer": "ipython3",
   "version": "3.11.7"
  }
 },
 "nbformat": 4,
 "nbformat_minor": 2
}
