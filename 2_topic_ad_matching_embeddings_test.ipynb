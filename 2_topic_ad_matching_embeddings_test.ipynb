{
 "cells": [
  {
   "cell_type": "markdown",
   "metadata": {},
   "source": [
    "## Concept/Domain coverage analysis: Matching with App Domains\n",
    "\n",
    "This notebook extracts corpus keywords and analyse the concepts emerging from three sources: source code, documentation and tests"
   ]
  },
  {
   "cell_type": "markdown",
   "metadata": {},
   "source": [
    "## Show topics"
   ]
  },
  {
   "cell_type": "code",
   "execution_count": 1,
   "metadata": {
    "scrolled": true
   },
   "outputs": [
    {
     "data": {
      "text/html": [
       "<div>\n",
       "<style scoped>\n",
       "    .dataframe tbody tr th:only-of-type {\n",
       "        vertical-align: middle;\n",
       "    }\n",
       "\n",
       "    .dataframe tbody tr th {\n",
       "        vertical-align: top;\n",
       "    }\n",
       "\n",
       "    .dataframe thead th {\n",
       "        text-align: right;\n",
       "    }\n",
       "</style>\n",
       "<table border=\"1\" class=\"dataframe\">\n",
       "  <thead>\n",
       "    <tr style=\"text-align: right;\">\n",
       "      <th></th>\n",
       "      <th>project_name</th>\n",
       "      <th>module</th>\n",
       "      <th>code_num_topics</th>\n",
       "      <th>test_num_topics</th>\n",
       "      <th>code_shown_topics</th>\n",
       "      <th>code_topics</th>\n",
       "      <th>test_shown_topics</th>\n",
       "      <th>test_topics</th>\n",
       "      <th>doc_num_topics</th>\n",
       "      <th>doc_shown_topics</th>\n",
       "      <th>doc_topics</th>\n",
       "    </tr>\n",
       "  </thead>\n",
       "  <tbody>\n",
       "    <tr>\n",
       "      <th>20</th>\n",
       "      <td>03_flink</td>\n",
       "      <td>flink-clients</td>\n",
       "      <td>8</td>\n",
       "      <td>9</td>\n",
       "      <td>[(0, [('jar', 0.10477287), ('url', 0.06690521)...</td>\n",
       "      <td>[['jar', 'url', 'entry', 'program', 'setting',...</td>\n",
       "      <td>[(0, [('cluster', 0.11344488), ('factory', 0.0...</td>\n",
       "      <td>[['jar', 'url', 'entry', 'program', 'setting',...</td>\n",
       "      <td>9</td>\n",
       "      <td>[(0, [('scala', 0.0055014915), ('processing', ...</td>\n",
       "      <td>[['scala', 'processing', 'java', 'intellij', '...</td>\n",
       "    </tr>\n",
       "    <tr>\n",
       "      <th>21</th>\n",
       "      <td>03_flink</td>\n",
       "      <td>flink-connectors</td>\n",
       "      <td>9</td>\n",
       "      <td>9</td>\n",
       "      <td>[(0, [('split', 0.17729564), ('source', 0.0911...</td>\n",
       "      <td>[['split', 'source', 'reader', 'hive', 'partit...</td>\n",
       "      <td>[(0, [('kafka', 0.047333054), ('partition', 0....</td>\n",
       "      <td>[['split', 'source', 'reader', 'hive', 'partit...</td>\n",
       "      <td>9</td>\n",
       "      <td>[(0, [('scala', 0.0055014915), ('processing', ...</td>\n",
       "      <td>[['scala', 'processing', 'java', 'intellij', '...</td>\n",
       "    </tr>\n",
       "    <tr>\n",
       "      <th>22</th>\n",
       "      <td>03_flink</td>\n",
       "      <td>flink-container</td>\n",
       "      <td>5</td>\n",
       "      <td>6</td>\n",
       "      <td>[(0, [('cluster', 0.043478318), ('application'...</td>\n",
       "      <td>[['cluster', 'application', 'entry', 'line', '...</td>\n",
       "      <td>[(0, [('application', 0.08333337), ('standalon...</td>\n",
       "      <td>[['cluster', 'application', 'entry', 'line', '...</td>\n",
       "      <td>9</td>\n",
       "      <td>[(0, [('scala', 0.0055014915), ('processing', ...</td>\n",
       "      <td>[['scala', 'processing', 'java', 'intellij', '...</td>\n",
       "    </tr>\n",
       "    <tr>\n",
       "      <th>23</th>\n",
       "      <td>03_flink</td>\n",
       "      <td>flink-contrib</td>\n",
       "      <td>9</td>\n",
       "      <td>8</td>\n",
       "      <td>[(0, [('event', 0.015625862), ('edit', 0.01559...</td>\n",
       "      <td>[['event', 'edit', 'diff', 'timestamp', 'chann...</td>\n",
       "      <td>[(0, [('context', 0.04166667), ('source', 0.04...</td>\n",
       "      <td>[['event', 'edit', 'diff', 'timestamp', 'chann...</td>\n",
       "      <td>9</td>\n",
       "      <td>[(0, [('scala', 0.0055014915), ('processing', ...</td>\n",
       "      <td>[['scala', 'processing', 'java', 'intellij', '...</td>\n",
       "    </tr>\n",
       "    <tr>\n",
       "      <th>24</th>\n",
       "      <td>03_flink</td>\n",
       "      <td>flink-core</td>\n",
       "      <td>7</td>\n",
       "      <td>9</td>\n",
       "      <td>[(0, [('key', 0.10738443), ('comparator', 0.09...</td>\n",
       "      <td>[['key', 'comparator', 'value', 'normalize', '...</td>\n",
       "      <td>[(0, [('map', 0.13233617), ('integer', 0.10897...</td>\n",
       "      <td>[['key', 'comparator', 'value', 'normalize', '...</td>\n",
       "      <td>9</td>\n",
       "      <td>[(0, [('scala', 0.0055014915), ('processing', ...</td>\n",
       "      <td>[['scala', 'processing', 'java', 'intellij', '...</td>\n",
       "    </tr>\n",
       "  </tbody>\n",
       "</table>\n",
       "</div>"
      ],
      "text/plain": [
       "   project_name            module  code_num_topics  test_num_topics   \n",
       "20     03_flink     flink-clients                8                9  \\\n",
       "21     03_flink  flink-connectors                9                9   \n",
       "22     03_flink   flink-container                5                6   \n",
       "23     03_flink     flink-contrib                9                8   \n",
       "24     03_flink        flink-core                7                9   \n",
       "\n",
       "                                    code_shown_topics   \n",
       "20  [(0, [('jar', 0.10477287), ('url', 0.06690521)...  \\\n",
       "21  [(0, [('split', 0.17729564), ('source', 0.0911...   \n",
       "22  [(0, [('cluster', 0.043478318), ('application'...   \n",
       "23  [(0, [('event', 0.015625862), ('edit', 0.01559...   \n",
       "24  [(0, [('key', 0.10738443), ('comparator', 0.09...   \n",
       "\n",
       "                                          code_topics   \n",
       "20  [['jar', 'url', 'entry', 'program', 'setting',...  \\\n",
       "21  [['split', 'source', 'reader', 'hive', 'partit...   \n",
       "22  [['cluster', 'application', 'entry', 'line', '...   \n",
       "23  [['event', 'edit', 'diff', 'timestamp', 'chann...   \n",
       "24  [['key', 'comparator', 'value', 'normalize', '...   \n",
       "\n",
       "                                    test_shown_topics   \n",
       "20  [(0, [('cluster', 0.11344488), ('factory', 0.0...  \\\n",
       "21  [(0, [('kafka', 0.047333054), ('partition', 0....   \n",
       "22  [(0, [('application', 0.08333337), ('standalon...   \n",
       "23  [(0, [('context', 0.04166667), ('source', 0.04...   \n",
       "24  [(0, [('map', 0.13233617), ('integer', 0.10897...   \n",
       "\n",
       "                                          test_topics  doc_num_topics   \n",
       "20  [['jar', 'url', 'entry', 'program', 'setting',...               9  \\\n",
       "21  [['split', 'source', 'reader', 'hive', 'partit...               9   \n",
       "22  [['cluster', 'application', 'entry', 'line', '...               9   \n",
       "23  [['event', 'edit', 'diff', 'timestamp', 'chann...               9   \n",
       "24  [['key', 'comparator', 'value', 'normalize', '...               9   \n",
       "\n",
       "                                     doc_shown_topics   \n",
       "20  [(0, [('scala', 0.0055014915), ('processing', ...  \\\n",
       "21  [(0, [('scala', 0.0055014915), ('processing', ...   \n",
       "22  [(0, [('scala', 0.0055014915), ('processing', ...   \n",
       "23  [(0, [('scala', 0.0055014915), ('processing', ...   \n",
       "24  [(0, [('scala', 0.0055014915), ('processing', ...   \n",
       "\n",
       "                                           doc_topics  \n",
       "20  [['scala', 'processing', 'java', 'intellij', '...  \n",
       "21  [['scala', 'processing', 'java', 'intellij', '...  \n",
       "22  [['scala', 'processing', 'java', 'intellij', '...  \n",
       "23  [['scala', 'processing', 'java', 'intellij', '...  \n",
       "24  [['scala', 'processing', 'java', 'intellij', '...  "
      ]
     },
     "execution_count": 1,
     "metadata": {},
     "output_type": "execute_result"
    }
   ],
   "source": [
    "import pandas as pd\n",
    "\n",
    "topics_df = pd.read_csv(\"topics_res_df.csv\")\n",
    "topics_df[20:25]"
   ]
  },
  {
   "cell_type": "markdown",
   "metadata": {},
   "source": [
    "## Show annotated modules"
   ]
  },
  {
   "cell_type": "code",
   "execution_count": 2,
   "metadata": {},
   "outputs": [
    {
     "data": {
      "text/html": [
       "<div>\n",
       "<style scoped>\n",
       "    .dataframe tbody tr th:only-of-type {\n",
       "        vertical-align: middle;\n",
       "    }\n",
       "\n",
       "    .dataframe tbody tr th {\n",
       "        vertical-align: top;\n",
       "    }\n",
       "\n",
       "    .dataframe thead th {\n",
       "        text-align: right;\n",
       "    }\n",
       "</style>\n",
       "<table border=\"1\" class=\"dataframe\">\n",
       "  <thead>\n",
       "    <tr style=\"text-align: right;\">\n",
       "      <th></th>\n",
       "      <th>project</th>\n",
       "      <th>module</th>\n",
       "      <th>top</th>\n",
       "      <th>labels</th>\n",
       "    </tr>\n",
       "  </thead>\n",
       "  <tbody>\n",
       "    <tr>\n",
       "      <th>0</th>\n",
       "      <td>dubbo</td>\n",
       "      <td>dubbo-configcenter</td>\n",
       "      <td>big data</td>\n",
       "      <td>['big data', 'instant messaging', 'user interf...</td>\n",
       "    </tr>\n",
       "    <tr>\n",
       "      <th>1</th>\n",
       "      <td>dubbo</td>\n",
       "      <td>dubbo-remoting</td>\n",
       "      <td>server</td>\n",
       "      <td>['server', 'instant messaging', 'web service',...</td>\n",
       "    </tr>\n",
       "    <tr>\n",
       "      <th>2</th>\n",
       "      <td>dubbo</td>\n",
       "      <td>dubbo-spring-boot</td>\n",
       "      <td>microservices</td>\n",
       "      <td>['microservices', 'web service', 'instant mess...</td>\n",
       "    </tr>\n",
       "    <tr>\n",
       "      <th>3</th>\n",
       "      <td>dubbo</td>\n",
       "      <td>dubbo-serialization</td>\n",
       "      <td>serialization</td>\n",
       "      <td>['serialization', 'database', 'file system', '...</td>\n",
       "    </tr>\n",
       "    <tr>\n",
       "      <th>4</th>\n",
       "      <td>dubbo</td>\n",
       "      <td>dubbo-native</td>\n",
       "      <td>web server</td>\n",
       "      <td>['web server', 'instant messaging', 'web servi...</td>\n",
       "    </tr>\n",
       "  </tbody>\n",
       "</table>\n",
       "</div>"
      ],
      "text/plain": [
       "  project               module            top   \n",
       "0   dubbo   dubbo-configcenter       big data  \\\n",
       "1   dubbo       dubbo-remoting         server   \n",
       "2   dubbo    dubbo-spring-boot  microservices   \n",
       "3   dubbo  dubbo-serialization  serialization   \n",
       "4   dubbo         dubbo-native     web server   \n",
       "\n",
       "                                              labels  \n",
       "0  ['big data', 'instant messaging', 'user interf...  \n",
       "1  ['server', 'instant messaging', 'web service',...  \n",
       "2  ['microservices', 'web service', 'instant mess...  \n",
       "3  ['serialization', 'database', 'file system', '...  \n",
       "4  ['web server', 'instant messaging', 'web servi...  "
      ]
     },
     "execution_count": 2,
     "metadata": {},
     "output_type": "execute_result"
    }
   ],
   "source": [
    "anno_df = pd.read_csv(\"module_annotation.csv\")\n",
    "anno_df = anno_df[[\"project\", \"module\", \"top\", \"labels\"]]\n",
    "anno_df.head()"
   ]
  },
  {
   "cell_type": "code",
   "execution_count": 3,
   "metadata": {},
   "outputs": [
    {
     "name": "stdout",
     "output_type": "stream",
     "text": [
      "<class 'pandas.core.frame.DataFrame'>\n",
      "RangeIndex: 483 entries, 0 to 482\n",
      "Data columns (total 4 columns):\n",
      " #   Column   Non-Null Count  Dtype \n",
      "---  ------   --------------  ----- \n",
      " 0   project  483 non-null    object\n",
      " 1   module   483 non-null    object\n",
      " 2   top      483 non-null    object\n",
      " 3   labels   483 non-null    object\n",
      "dtypes: object(4)\n",
      "memory usage: 15.2+ KB\n"
     ]
    }
   ],
   "source": [
    "anno_df.info()"
   ]
  },
  {
   "cell_type": "markdown",
   "metadata": {},
   "source": [
    "## Take a subset of df as test"
   ]
  },
  {
   "cell_type": "code",
   "execution_count": 12,
   "metadata": {},
   "outputs": [
    {
     "data": {
      "text/html": [
       "<div>\n",
       "<style scoped>\n",
       "    .dataframe tbody tr th:only-of-type {\n",
       "        vertical-align: middle;\n",
       "    }\n",
       "\n",
       "    .dataframe tbody tr th {\n",
       "        vertical-align: top;\n",
       "    }\n",
       "\n",
       "    .dataframe thead th {\n",
       "        text-align: right;\n",
       "    }\n",
       "</style>\n",
       "<table border=\"1\" class=\"dataframe\">\n",
       "  <thead>\n",
       "    <tr style=\"text-align: right;\">\n",
       "      <th></th>\n",
       "      <th>project_name</th>\n",
       "      <th>module</th>\n",
       "      <th>code_num_topics</th>\n",
       "      <th>test_num_topics</th>\n",
       "      <th>code_shown_topics</th>\n",
       "      <th>code_topics</th>\n",
       "      <th>test_shown_topics</th>\n",
       "      <th>test_topics</th>\n",
       "      <th>doc_num_topics</th>\n",
       "      <th>doc_shown_topics</th>\n",
       "      <th>doc_topics</th>\n",
       "    </tr>\n",
       "  </thead>\n",
       "  <tbody>\n",
       "    <tr>\n",
       "      <th>17</th>\n",
       "      <td>02_skywalking</td>\n",
       "      <td>apm-protocol</td>\n",
       "      <td>8</td>\n",
       "      <td>1</td>\n",
       "      <td>[(0, [('command', 0.0175439), ('serializable',...</td>\n",
       "      <td>[['command', 'serializable', 'deserializable',...</td>\n",
       "      <td>[(0, [('command', 0.11111111), ('complete', 0....</td>\n",
       "      <td>[['command', 'serializable', 'deserializable',...</td>\n",
       "      <td>9</td>\n",
       "      <td>[(0, [('trace', 0.0060752206), ('support', 0.0...</td>\n",
       "      <td>[['trace', 'support', 'metric', 'mail', 'nativ...</td>\n",
       "    </tr>\n",
       "  </tbody>\n",
       "</table>\n",
       "</div>"
      ],
      "text/plain": [
       "     project_name        module  code_num_topics  test_num_topics   \n",
       "17  02_skywalking  apm-protocol                8                1  \\\n",
       "\n",
       "                                    code_shown_topics   \n",
       "17  [(0, [('command', 0.0175439), ('serializable',...  \\\n",
       "\n",
       "                                          code_topics   \n",
       "17  [['command', 'serializable', 'deserializable',...  \\\n",
       "\n",
       "                                    test_shown_topics   \n",
       "17  [(0, [('command', 0.11111111), ('complete', 0....  \\\n",
       "\n",
       "                                          test_topics  doc_num_topics   \n",
       "17  [['command', 'serializable', 'deserializable',...               9  \\\n",
       "\n",
       "                                     doc_shown_topics   \n",
       "17  [(0, [('trace', 0.0060752206), ('support', 0.0...  \\\n",
       "\n",
       "                                           doc_topics  \n",
       "17  [['trace', 'support', 'metric', 'mail', 'nativ...  "
      ]
     },
     "execution_count": 12,
     "metadata": {},
     "output_type": "execute_result"
    }
   ],
   "source": [
    "# skywalking apm-protocol as an example\n",
    "\n",
    "topics_sub_df = topics_df[topics_df[\"module\"]==\"apm-protocol\"]\n",
    "topics_sub_df"
   ]
  },
  {
   "cell_type": "code",
   "execution_count": 13,
   "metadata": {},
   "outputs": [
    {
     "data": {
      "text/html": [
       "<div>\n",
       "<style scoped>\n",
       "    .dataframe tbody tr th:only-of-type {\n",
       "        vertical-align: middle;\n",
       "    }\n",
       "\n",
       "    .dataframe tbody tr th {\n",
       "        vertical-align: top;\n",
       "    }\n",
       "\n",
       "    .dataframe thead th {\n",
       "        text-align: right;\n",
       "    }\n",
       "</style>\n",
       "<table border=\"1\" class=\"dataframe\">\n",
       "  <thead>\n",
       "    <tr style=\"text-align: right;\">\n",
       "      <th></th>\n",
       "      <th>project</th>\n",
       "      <th>module</th>\n",
       "      <th>top</th>\n",
       "      <th>labels</th>\n",
       "    </tr>\n",
       "  </thead>\n",
       "  <tbody>\n",
       "    <tr>\n",
       "      <th>26</th>\n",
       "      <td>skywalking</td>\n",
       "      <td>apm-protocol</td>\n",
       "      <td>server</td>\n",
       "      <td>['server', 'plot', 'instant messaging', 'websi...</td>\n",
       "    </tr>\n",
       "  </tbody>\n",
       "</table>\n",
       "</div>"
      ],
      "text/plain": [
       "       project        module     top   \n",
       "26  skywalking  apm-protocol  server  \\\n",
       "\n",
       "                                               labels  \n",
       "26  ['server', 'plot', 'instant messaging', 'websi...  "
      ]
     },
     "execution_count": 13,
     "metadata": {},
     "output_type": "execute_result"
    }
   ],
   "source": [
    "anno_sub_df = anno_df[anno_df[\"module\"]==\"apm-protocol\"]\n",
    "anno_sub_df"
   ]
  },
  {
   "cell_type": "code",
   "execution_count": 14,
   "metadata": {},
   "outputs": [
    {
     "name": "stdout",
     "output_type": "stream",
     "text": [
      "<class 'pandas.core.frame.DataFrame'>\n",
      "RangeIndex: 1 entries, 0 to 0\n",
      "Data columns (total 13 columns):\n",
      " #   Column             Non-Null Count  Dtype \n",
      "---  ------             --------------  ----- \n",
      " 0   project_name       1 non-null      object\n",
      " 1   module             1 non-null      object\n",
      " 2   code_num_topics    1 non-null      int64 \n",
      " 3   test_num_topics    1 non-null      int64 \n",
      " 4   code_shown_topics  1 non-null      object\n",
      " 5   code_topics        1 non-null      object\n",
      " 6   test_shown_topics  1 non-null      object\n",
      " 7   test_topics        1 non-null      object\n",
      " 8   doc_num_topics     1 non-null      int64 \n",
      " 9   doc_shown_topics   1 non-null      object\n",
      " 10  doc_topics         1 non-null      object\n",
      " 11  top                1 non-null      object\n",
      " 12  labels             1 non-null      object\n",
      "dtypes: int64(3), object(10)\n",
      "memory usage: 236.0+ bytes\n"
     ]
    }
   ],
   "source": [
    "# pd.set_option('display.max_colwidth', None)\n",
    "module_df = topics_sub_df.merge(anno_sub_df).drop(columns=[\"project\"])\n",
    "module_df.info()"
   ]
  },
  {
   "cell_type": "markdown",
   "metadata": {},
   "source": [
    "## LLM Matching of AD to Concepts"
   ]
  },
  {
   "cell_type": "markdown",
   "metadata": {},
   "source": [
    "### using apm-protocol module as an example"
   ]
  },
  {
   "cell_type": "markdown",
   "metadata": {},
   "source": [
    "### Using embeddings then calculate semantic similarity to match with domains\n",
    "\n",
    "- StackOverflow w2v\n",
    "- all-MiniLM-L6-v2-f16 (GPT4all + scikit-LLM)\n",
    "- text-embedding-ada-002 (openAI + scikit-LLM)"
   ]
  },
  {
   "cell_type": "code",
   "execution_count": 15,
   "metadata": {},
   "outputs": [],
   "source": [
    "concept_list = module_df['code_topics'][0]\n",
    "domains = module_df['labels'][0]"
   ]
  },
  {
   "cell_type": "code",
   "execution_count": 16,
   "metadata": {},
   "outputs": [
    {
     "data": {
      "text/plain": [
       "\"[['command', 'serializable', 'deserializable', 'task', 'number', 'builder', 'profile', 'duration', 'max', 'network'], ['command', 'builder', 'number', 'runtime', 'unsupported', 'path', 'add', 'serializable', 'serialize', 'trace'], ['trigger', 'ebpf', 'fix', 'gson', 'extension', 'process', 'update', 'target', 'task', 'command'], ['task', 'profile', 'command', 'duration', 'time', 'min', 'max', 'endpoint', 'count', 'dump'], ['command', 'discovery', 'uuid', 'number', 'deserializable', 'serializable', 'key', 'value', 'pair', 'deserialize'], ['command', 'serializable', 'deserializable', 'profile', 'number', 'duration', 'builder', 'task', 'unsupported', 'uuid'], ['setting', 'integer', 'network', 'rule', 'max', 'size', 'request', 'require', 'response', 'sample'], ['command', 'serializable', 'deserializable', 'number', 'builder', 'task', 'profile', 'unsupported', 'deserializer', 'max']]\""
      ]
     },
     "execution_count": 16,
     "metadata": {},
     "output_type": "execute_result"
    }
   ],
   "source": [
    "concept_list"
   ]
  },
  {
   "cell_type": "code",
   "execution_count": 17,
   "metadata": {},
   "outputs": [
    {
     "data": {
      "text/plain": [
       "\"['server', 'plot', 'instant messaging', 'website', 'file system', 'web server', 'database', 'command-line interface', 'World Wide Web', 'package management system', 'application performance management', 'client', 'web service', 'File Transfer Protocol', 'shell tool', 'user interface', 'telecommunications network', 'HTTP server', 'computer configuration', 'data binding', 'big data', 'extract, transform, load', 'object detection', 'data', 'security', 'web application', 'regular expression', 'data structure', 'web application security', 'smart contract', 'statistics', 'machine translation', 'social network', 'pattern matching', 'network monitoring', 'microservices', 'network security', 'time series', 'continuous integration', 'analytics', 'automation', 'object–relational mapping', 'HTTP client', 'neural machine translation', 'password manager', 'back end', 'operating system', 'WebSocket', 'embedded system', 'game server', 'font', 'evolutionary algorithm', 'data visualization', 'face detection', 'data science', 'facial recognition system', 'finance', 'distributed database', 'front end', 'database management', 'functional programming', 'data compression', 'game engine', 'game', 'genetic algorithm', 'genomics', 'geographic information system', 'data mining', 'engineering', 'encryption', 'debugger', 'distributed computing', 'digital security', 'data analysis', 'distributed multimedia communications platform', 'distributed system', 'documentation', 'digital image processing', 'digital audio', 'design', 'e-commerce', 'dependency injection', 'education', 'electronic trading platform', 'deep neural network', 'deep learning', 'email', 'debugging', 'word embedding', 'computer data storage', 'cryptography', 'automated machine learning', 'augmented reality', 'audio signal processing', 'audio player software', 'artificial neural network', 'artificial intelligence', 'anomaly detection', 'animation', 'algorithmic trading', 'algorithm', 'Web Components', 'Semantic Web', 'Reverse engineering', 'RNA sequencing', 'Q-learning', 'Parser combinator', 'Naive Bayes classifier', 'Malware Analysis', 'Kalman filter', 'Image analysis', 'IRC bot', 'DevOps', 'Containerization', 'Bidirectional recurrent neural networks', 'Bayesian inference', '3D modeling', 'authentication', 'autonomous driving', 'cryptocurrency', 'backup', 'convolutional neural network', 'continuous deployment', 'continuous delivery', 'content management system', 'computer vision', 'computer science', 'computer programming', 'computer graphics', 'geometry', 'computer benchmarking', 'computational science', 'computational biology', 'compiler', 'code generation', 'cluster analysis', 'cloud computing', 'classification', 'chatbot', 'camera', 'business dashboard', 'blockchain', 'bitcoin', 'bioinformatics', 'benchmark', 'banking industry', 'geographic information', 'information extraction', 'graph algorithm', 'simulation', 'static site generator', 'static program analysis', 'static program analysis tool', 'speech synthesis', 'speech recognition', 'sorting algorithm', 'software testing', 'software engineering', 'software development', 'software design pattern', 'software architecture', 'simulator', 'signal processing', 'stream processing', 'serverless computing', 'serialization', 'sequencing', 'sentiment analysis', 'semi-supervised learning', 'search', 'search engine', 'science', 'schema migration', 'scheduler', 'routing', 'router', 'stock market', 'streaming media', 'rendering', 'video game', 'web scraping', 'web development', 'web crawler', 'web browser', 'web browser engine', 'visualization', 'virtualization', 'virtual reality', 'virtual machine', 'video', 'video tracking', 'video processing', 'video game development', 'support vector machine', 'validator', 'unit testing', 'translation', 'transfer learning', 'topic modeling', 'text processing', 'text mining', 'text editor', 'text classification', 'test automation', 'syntax highlighting', 'synchronization', 'robotics', 'reinforcement learning', 'graph database', 'information retrieval', 'logistic regression model', 'logging', 'linear regression', 'linear algebra', 'lexical analysis', 'language model', 'knowledge graph', 'kernel', 'interpreter', 'internet of things', 'internet bot', 'integrated development environment', 'information processing', 'machine learning', 'image', 'image segmentation', 'image recognition', 'image editing', 'image compression', 'image classification', 'image captioning', 'hyperparameter optimization', 'home automation', 'hacking tool', 'graphical user interface', 'graph', 'long short-term memory', 'malware', 'regression analysis', 'object-oriented programming', 'recurrent neural network', 'recommender system', 'real-time computing', 'reactive programming', 'random forest', 'question answering', 'quantum computer', 'productivity', 'physics', 'penetration test', 'parsing', 'optical character recognition', 'neural network', 'mathematical finance', 'network analysis', 'natural language', 'natural language understanding', 'natural language processing', 'named-entity recognition', 'music', 'multiplayer game', 'mobile computing', 'mobile application development', 'middleware', 'mathematics', 'mathematical optimization', '3D computer graphics']\""
      ]
     },
     "execution_count": 17,
     "metadata": {},
     "output_type": "execute_result"
    }
   ],
   "source": [
    "domains"
   ]
  },
  {
   "cell_type": "code",
   "execution_count": 36,
   "metadata": {},
   "outputs": [],
   "source": [
    "import ast\n",
    "\n",
    "cl = ast.literal_eval(concept_list)\n",
    "dl = ast.literal_eval(domains)"
   ]
  },
  {
   "cell_type": "markdown",
   "metadata": {},
   "source": [
    "### StackOverflow W2V"
   ]
  },
  {
   "cell_type": "code",
   "execution_count": 19,
   "metadata": {},
   "outputs": [],
   "source": [
    "from gensim.models.keyedvectors import KeyedVectors\n",
    "\n",
    "so_w2v_model = KeyedVectors.load_word2vec_format('C:/Users/biadge/OneDrive - BP/PhD/extraction/SO_vectors_200.bin', binary=True)"
   ]
  },
  {
   "cell_type": "code",
   "execution_count": 20,
   "metadata": {},
   "outputs": [
    {
     "data": {
      "text/plain": [
       "0.1252212"
      ]
     },
     "execution_count": 20,
     "metadata": {},
     "output_type": "execute_result"
    }
   ],
   "source": [
    "# test\n",
    "so_w2v_model.n_similarity(['test', 'case'], ['quality'])"
   ]
  },
  {
   "cell_type": "code",
   "execution_count": 21,
   "metadata": {},
   "outputs": [],
   "source": [
    "def comp_con_domains_sow2v(so_w2v_model, con, domains):\n",
    "    # list of domains should be given, now we return an array of similarity scores for all domains\n",
    "    sim_res = []\n",
    "\n",
    "    for dom in dl:\n",
    "        sim_res.append((dom, so_w2v_model.n_similarity(con, [dom])))\n",
    "\n",
    "    sim_df = pd.DataFrame(sim_res, columns=['domain','sim_score']).sort_values(by='sim_score', ascending=False).reset_index(drop=True)\n",
    "    sim_df = sim_df[sim_df['sim_score']>0]\n",
    "\n",
    "    return sim_df"
   ]
  },
  {
   "cell_type": "code",
   "execution_count": 22,
   "metadata": {},
   "outputs": [],
   "source": [
    "sow2v_domain_res = []\n",
    "\n",
    "for con in cl:\n",
    "    df_res = comp_con_domains_sow2v(so_w2v_model, con, dl)\n",
    "    df_res['concept'] = str(con)\n",
    "    df_res = df_res[['concept', 'domain', 'sim_score']]\n",
    "    sow2v_domain_res.append(df_res)"
   ]
  },
  {
   "cell_type": "code",
   "execution_count": 23,
   "metadata": {},
   "outputs": [
    {
     "data": {
      "text/html": [
       "<div>\n",
       "<style scoped>\n",
       "    .dataframe tbody tr th:only-of-type {\n",
       "        vertical-align: middle;\n",
       "    }\n",
       "\n",
       "    .dataframe tbody tr th {\n",
       "        vertical-align: top;\n",
       "    }\n",
       "\n",
       "    .dataframe thead th {\n",
       "        text-align: right;\n",
       "    }\n",
       "</style>\n",
       "<table border=\"1\" class=\"dataframe\">\n",
       "  <thead>\n",
       "    <tr style=\"text-align: right;\">\n",
       "      <th></th>\n",
       "      <th>concept</th>\n",
       "      <th>domain</th>\n",
       "      <th>sim_score</th>\n",
       "    </tr>\n",
       "  </thead>\n",
       "  <tbody>\n",
       "    <tr>\n",
       "      <th>0</th>\n",
       "      <td>['command', 'serializable', 'deserializable', ...</td>\n",
       "      <td>data</td>\n",
       "      <td>0.434844</td>\n",
       "    </tr>\n",
       "    <tr>\n",
       "      <th>1</th>\n",
       "      <td>['command', 'serializable', 'deserializable', ...</td>\n",
       "      <td>database</td>\n",
       "      <td>0.424948</td>\n",
       "    </tr>\n",
       "    <tr>\n",
       "      <th>2</th>\n",
       "      <td>['command', 'serializable', 'deserializable', ...</td>\n",
       "      <td>server</td>\n",
       "      <td>0.420506</td>\n",
       "    </tr>\n",
       "    <tr>\n",
       "      <th>3</th>\n",
       "      <td>['command', 'serializable', 'deserializable', ...</td>\n",
       "      <td>client</td>\n",
       "      <td>0.399335</td>\n",
       "    </tr>\n",
       "    <tr>\n",
       "      <th>4</th>\n",
       "      <td>['command', 'serializable', 'deserializable', ...</td>\n",
       "      <td>scheduler</td>\n",
       "      <td>0.373519</td>\n",
       "    </tr>\n",
       "    <tr>\n",
       "      <th>...</th>\n",
       "      <td>...</td>\n",
       "      <td>...</td>\n",
       "      <td>...</td>\n",
       "    </tr>\n",
       "    <tr>\n",
       "      <th>58</th>\n",
       "      <td>['command', 'serializable', 'deserializable', ...</td>\n",
       "      <td>routing</td>\n",
       "      <td>0.027414</td>\n",
       "    </tr>\n",
       "    <tr>\n",
       "      <th>59</th>\n",
       "      <td>['command', 'serializable', 'deserializable', ...</td>\n",
       "      <td>visualization</td>\n",
       "      <td>0.027070</td>\n",
       "    </tr>\n",
       "    <tr>\n",
       "      <th>60</th>\n",
       "      <td>['command', 'serializable', 'deserializable', ...</td>\n",
       "      <td>cryptography</td>\n",
       "      <td>0.025774</td>\n",
       "    </tr>\n",
       "    <tr>\n",
       "      <th>61</th>\n",
       "      <td>['command', 'serializable', 'deserializable', ...</td>\n",
       "      <td>engineering</td>\n",
       "      <td>0.024542</td>\n",
       "    </tr>\n",
       "    <tr>\n",
       "      <th>62</th>\n",
       "      <td>['command', 'serializable', 'deserializable', ...</td>\n",
       "      <td>malware</td>\n",
       "      <td>0.013542</td>\n",
       "    </tr>\n",
       "  </tbody>\n",
       "</table>\n",
       "<p>63 rows × 3 columns</p>\n",
       "</div>"
      ],
      "text/plain": [
       "                                              concept         domain   \n",
       "0   ['command', 'serializable', 'deserializable', ...           data  \\\n",
       "1   ['command', 'serializable', 'deserializable', ...       database   \n",
       "2   ['command', 'serializable', 'deserializable', ...         server   \n",
       "3   ['command', 'serializable', 'deserializable', ...         client   \n",
       "4   ['command', 'serializable', 'deserializable', ...      scheduler   \n",
       "..                                                ...            ...   \n",
       "58  ['command', 'serializable', 'deserializable', ...        routing   \n",
       "59  ['command', 'serializable', 'deserializable', ...  visualization   \n",
       "60  ['command', 'serializable', 'deserializable', ...   cryptography   \n",
       "61  ['command', 'serializable', 'deserializable', ...    engineering   \n",
       "62  ['command', 'serializable', 'deserializable', ...        malware   \n",
       "\n",
       "    sim_score  \n",
       "0    0.434844  \n",
       "1    0.424948  \n",
       "2    0.420506  \n",
       "3    0.399335  \n",
       "4    0.373519  \n",
       "..        ...  \n",
       "58   0.027414  \n",
       "59   0.027070  \n",
       "60   0.025774  \n",
       "61   0.024542  \n",
       "62   0.013542  \n",
       "\n",
       "[63 rows x 3 columns]"
      ]
     },
     "execution_count": 23,
     "metadata": {},
     "output_type": "execute_result"
    }
   ],
   "source": [
    "sow2v_domain_res[0]"
   ]
  },
  {
   "cell_type": "code",
   "execution_count": 24,
   "metadata": {},
   "outputs": [
    {
     "data": {
      "text/html": [
       "<div>\n",
       "<style scoped>\n",
       "    .dataframe tbody tr th:only-of-type {\n",
       "        vertical-align: middle;\n",
       "    }\n",
       "\n",
       "    .dataframe tbody tr th {\n",
       "        vertical-align: top;\n",
       "    }\n",
       "\n",
       "    .dataframe thead th {\n",
       "        text-align: right;\n",
       "    }\n",
       "</style>\n",
       "<table border=\"1\" class=\"dataframe\">\n",
       "  <thead>\n",
       "    <tr style=\"text-align: right;\">\n",
       "      <th></th>\n",
       "      <th>concept</th>\n",
       "      <th>domain</th>\n",
       "      <th>sim_score</th>\n",
       "    </tr>\n",
       "  </thead>\n",
       "  <tbody>\n",
       "    <tr>\n",
       "      <th>0</th>\n",
       "      <td>['command', 'serializable', 'deserializable', 'task', 'number', 'builder', 'profile', 'duration', 'max', 'network']</td>\n",
       "      <td>data</td>\n",
       "      <td>0.434844</td>\n",
       "    </tr>\n",
       "    <tr>\n",
       "      <th>1</th>\n",
       "      <td>['command', 'serializable', 'deserializable', 'task', 'number', 'builder', 'profile', 'duration', 'max', 'network']</td>\n",
       "      <td>database</td>\n",
       "      <td>0.424948</td>\n",
       "    </tr>\n",
       "    <tr>\n",
       "      <th>2</th>\n",
       "      <td>['command', 'serializable', 'deserializable', 'task', 'number', 'builder', 'profile', 'duration', 'max', 'network']</td>\n",
       "      <td>server</td>\n",
       "      <td>0.420506</td>\n",
       "    </tr>\n",
       "    <tr>\n",
       "      <th>3</th>\n",
       "      <td>['command', 'serializable', 'deserializable', 'task', 'number', 'builder', 'profile', 'duration', 'max', 'network']</td>\n",
       "      <td>client</td>\n",
       "      <td>0.399335</td>\n",
       "    </tr>\n",
       "    <tr>\n",
       "      <th>4</th>\n",
       "      <td>['command', 'serializable', 'deserializable', 'task', 'number', 'builder', 'profile', 'duration', 'max', 'network']</td>\n",
       "      <td>scheduler</td>\n",
       "      <td>0.373519</td>\n",
       "    </tr>\n",
       "    <tr>\n",
       "      <th>...</th>\n",
       "      <td>...</td>\n",
       "      <td>...</td>\n",
       "      <td>...</td>\n",
       "    </tr>\n",
       "    <tr>\n",
       "      <th>425</th>\n",
       "      <td>['command', 'serializable', 'deserializable', 'number', 'builder', 'task', 'profile', 'unsupported', 'deserializer', 'max']</td>\n",
       "      <td>music</td>\n",
       "      <td>0.044551</td>\n",
       "    </tr>\n",
       "    <tr>\n",
       "      <th>426</th>\n",
       "      <td>['command', 'serializable', 'deserializable', 'number', 'builder', 'task', 'profile', 'unsupported', 'deserializer', 'max']</td>\n",
       "      <td>cryptography</td>\n",
       "      <td>0.040918</td>\n",
       "    </tr>\n",
       "    <tr>\n",
       "      <th>427</th>\n",
       "      <td>['command', 'serializable', 'deserializable', 'number', 'builder', 'task', 'profile', 'unsupported', 'deserializer', 'max']</td>\n",
       "      <td>virtualization</td>\n",
       "      <td>0.037310</td>\n",
       "    </tr>\n",
       "    <tr>\n",
       "      <th>428</th>\n",
       "      <td>['command', 'serializable', 'deserializable', 'number', 'builder', 'task', 'profile', 'unsupported', 'deserializer', 'max']</td>\n",
       "      <td>documentation</td>\n",
       "      <td>0.034948</td>\n",
       "    </tr>\n",
       "    <tr>\n",
       "      <th>429</th>\n",
       "      <td>['command', 'serializable', 'deserializable', 'number', 'builder', 'task', 'profile', 'unsupported', 'deserializer', 'max']</td>\n",
       "      <td>routing</td>\n",
       "      <td>0.018408</td>\n",
       "    </tr>\n",
       "  </tbody>\n",
       "</table>\n",
       "<p>430 rows × 3 columns</p>\n",
       "</div>"
      ],
      "text/plain": [
       "                                                                                                                         concept   \n",
       "0            ['command', 'serializable', 'deserializable', 'task', 'number', 'builder', 'profile', 'duration', 'max', 'network']  \\\n",
       "1            ['command', 'serializable', 'deserializable', 'task', 'number', 'builder', 'profile', 'duration', 'max', 'network']   \n",
       "2            ['command', 'serializable', 'deserializable', 'task', 'number', 'builder', 'profile', 'duration', 'max', 'network']   \n",
       "3            ['command', 'serializable', 'deserializable', 'task', 'number', 'builder', 'profile', 'duration', 'max', 'network']   \n",
       "4            ['command', 'serializable', 'deserializable', 'task', 'number', 'builder', 'profile', 'duration', 'max', 'network']   \n",
       "..                                                                                                                           ...   \n",
       "425  ['command', 'serializable', 'deserializable', 'number', 'builder', 'task', 'profile', 'unsupported', 'deserializer', 'max']   \n",
       "426  ['command', 'serializable', 'deserializable', 'number', 'builder', 'task', 'profile', 'unsupported', 'deserializer', 'max']   \n",
       "427  ['command', 'serializable', 'deserializable', 'number', 'builder', 'task', 'profile', 'unsupported', 'deserializer', 'max']   \n",
       "428  ['command', 'serializable', 'deserializable', 'number', 'builder', 'task', 'profile', 'unsupported', 'deserializer', 'max']   \n",
       "429  ['command', 'serializable', 'deserializable', 'number', 'builder', 'task', 'profile', 'unsupported', 'deserializer', 'max']   \n",
       "\n",
       "             domain  sim_score  \n",
       "0              data   0.434844  \n",
       "1          database   0.424948  \n",
       "2            server   0.420506  \n",
       "3            client   0.399335  \n",
       "4         scheduler   0.373519  \n",
       "..              ...        ...  \n",
       "425           music   0.044551  \n",
       "426    cryptography   0.040918  \n",
       "427  virtualization   0.037310  \n",
       "428   documentation   0.034948  \n",
       "429         routing   0.018408  \n",
       "\n",
       "[430 rows x 3 columns]"
      ]
     },
     "execution_count": 24,
     "metadata": {},
     "output_type": "execute_result"
    }
   ],
   "source": [
    "pd.set_option('display.max_colwidth', None)\n",
    "sow2v_domain_match_df = pd.concat(sow2v_domain_res).reset_index(drop=True)\n",
    "sow2v_domain_match_df"
   ]
  },
  {
   "cell_type": "code",
   "execution_count": 25,
   "metadata": {},
   "outputs": [],
   "source": [
    "sow2v_domain_match_df.to_csv(\"sow2v_domain_match_df.csv\", index=False)"
   ]
  },
  {
   "cell_type": "markdown",
   "metadata": {},
   "source": [
    "### scikit-LLM (GPT4All all-MiniLM-L6-v2-f16)"
   ]
  },
  {
   "cell_type": "code",
   "execution_count": 26,
   "metadata": {},
   "outputs": [],
   "source": [
    "# from gpt4all import Embed4All\n",
    "# text = 'The quick brown fox jumps over the lazy dog'\n",
    "# embedder = Embed4All()\n",
    "# output = embedder.embed(text)\n",
    "# print(output)"
   ]
  },
  {
   "cell_type": "markdown",
   "metadata": {},
   "source": [
    "### scikit-LLM (OpenAI text-embedding-ada-002)"
   ]
  },
  {
   "cell_type": "code",
   "execution_count": 27,
   "metadata": {},
   "outputs": [],
   "source": [
    "from skllm.models.gpt.vectorization import GPTVectorizer\n",
    "from skllm.config import SKLLMConfig\n",
    "from sklearn.metrics.pairwise import cosine_similarity\n",
    "import numpy as np\n",
    "from dotenv import load_dotenv, find_dotenv\n",
    "import os"
   ]
  },
  {
   "cell_type": "code",
   "execution_count": 28,
   "metadata": {},
   "outputs": [],
   "source": [
    "_ = load_dotenv(find_dotenv()) # read local .env file"
   ]
  },
  {
   "cell_type": "code",
   "execution_count": 29,
   "metadata": {},
   "outputs": [],
   "source": [
    "SKLLMConfig.set_openai_key(os.getenv(\"API_KEY\"))\n",
    "SKLLMConfig.set_openai_org(os.getenv(\"ORG\"))"
   ]
  },
  {
   "cell_type": "code",
   "execution_count": 31,
   "metadata": {},
   "outputs": [
    {
     "name": "stdout",
     "output_type": "stream",
     "text": [
      "Batch size: 1\n"
     ]
    },
    {
     "name": "stderr",
     "output_type": "stream",
     "text": [
      "100%|██████████| 2/2 [00:02<00:00,  1.40s/it]\n"
     ]
    }
   ],
   "source": [
    "model = GPTVectorizer()\n",
    "\n",
    "vectors = model.fit_transform([\"how old are you?\", \"what is your age?\"])\n",
    "\n",
    "vector_1 = np.array(vectors[0]).reshape(1, -1)\n",
    "vector_2 = np.array(vectors[1]).reshape(1, -1)"
   ]
  },
  {
   "cell_type": "code",
   "execution_count": 32,
   "metadata": {},
   "outputs": [
    {
     "data": {
      "text/plain": [
       "array([[ 0.01409033, -0.01473137,  0.02737622, ...,  0.01300936,\n",
       "         0.00062651, -0.0186279 ]])"
      ]
     },
     "execution_count": 32,
     "metadata": {},
     "output_type": "execute_result"
    }
   ],
   "source": [
    "vector_1"
   ]
  },
  {
   "cell_type": "code",
   "execution_count": 33,
   "metadata": {},
   "outputs": [
    {
     "data": {
      "text/plain": [
       "array([[ 0.01086601, -0.01645278,  0.00522158, ...,  0.00467059,\n",
       "        -0.01438978, -0.0314448 ]])"
      ]
     },
     "execution_count": 33,
     "metadata": {},
     "output_type": "execute_result"
    }
   ],
   "source": [
    "vector_2"
   ]
  },
  {
   "cell_type": "code",
   "execution_count": 34,
   "metadata": {},
   "outputs": [
    {
     "data": {
      "text/plain": [
       "array([[0.94791596]])"
      ]
     },
     "execution_count": 34,
     "metadata": {},
     "output_type": "execute_result"
    }
   ],
   "source": [
    "cosine_similarity(vector_1, vector_2)"
   ]
  },
  {
   "cell_type": "code",
   "execution_count": null,
   "metadata": {},
   "outputs": [],
   "source": [
    "import time\n",
    "\n",
    "dom_vec_list = []\n",
    "\n",
    "for dom in dl:\n",
    "    dom_vectors = model.fit_transform([dom])\n",
    "    dom_vec = np.array(dom_vectors[0]).reshape(1, -1)\n",
    "    dom_vec_list.append((dom, dom_vec))\n",
    "    time.sleep(0.5)"
   ]
  },
  {
   "cell_type": "code",
   "execution_count": 41,
   "metadata": {},
   "outputs": [
    {
     "data": {
      "text/plain": [
       "267"
      ]
     },
     "execution_count": 41,
     "metadata": {},
     "output_type": "execute_result"
    }
   ],
   "source": [
    "len(dom_vec_list)"
   ]
  },
  {
   "cell_type": "code",
   "execution_count": 48,
   "metadata": {},
   "outputs": [],
   "source": [
    "def comp_con_domains_gpt(gpt_model, con, dom_vec_list):\n",
    "    # list of domains should be given, now we return an array of similarity scores for all domains\n",
    "    sim_res = []\n",
    "\n",
    "    print(\"Working on concept {}\".format(str(con)))\n",
    "    print(\"No. of domains to run against: {}\".format(str(len(dom_vec_list))))\n",
    "\n",
    "    str_con = \" \".join(con)\n",
    "\n",
    "    con_vectors = gpt_model.fit_transform([str_con])\n",
    "    con_vec = np.array(con_vectors[0]).reshape(1, -1)\n",
    "\n",
    "    print(dom_vec_list[0][1])\n",
    "    for dom_vec in dom_vec_list:\n",
    "        sim_score = cosine_similarity(con_vec, dom_vec[1])\n",
    "        sim_res.append((dom_vec[0], sim_score))\n",
    "        \n",
    "    sim_df = pd.DataFrame(sim_res, columns=['domain','sim_score']).sort_values(by='sim_score', ascending=False).reset_index(drop=True)\n",
    "    sim_df = sim_df[sim_df['sim_score']>0]\n",
    "\n",
    "    return sim_df"
   ]
  },
  {
   "cell_type": "code",
   "execution_count": 49,
   "metadata": {},
   "outputs": [
    {
     "name": "stdout",
     "output_type": "stream",
     "text": [
      "Working on concept ['command', 'serializable', 'deserializable', 'task', 'number', 'builder', 'profile', 'duration', 'max', 'network']\n",
      "No. of domains to run against: 267\n",
      "Batch size: 1\n"
     ]
    },
    {
     "name": "stderr",
     "output_type": "stream",
     "text": [
      "100%|██████████| 1/1 [00:00<00:00,  1.10it/s]\n"
     ]
    },
    {
     "name": "stdout",
     "output_type": "stream",
     "text": [
      "[[-0.01526114 -0.02739326  0.00470422 ... -0.02261437 -0.00247834\n",
      "   0.00118139]]\n",
      "Working on concept ['command', 'builder', 'number', 'runtime', 'unsupported', 'path', 'add', 'serializable', 'serialize', 'trace']\n",
      "No. of domains to run against: 267\n",
      "Batch size: 1\n"
     ]
    },
    {
     "name": "stderr",
     "output_type": "stream",
     "text": [
      "100%|██████████| 1/1 [00:00<00:00,  1.50it/s]\n"
     ]
    },
    {
     "name": "stdout",
     "output_type": "stream",
     "text": [
      "[[-0.01526114 -0.02739326  0.00470422 ... -0.02261437 -0.00247834\n",
      "   0.00118139]]\n",
      "Working on concept ['trigger', 'ebpf', 'fix', 'gson', 'extension', 'process', 'update', 'target', 'task', 'command']\n",
      "No. of domains to run against: 267\n",
      "Batch size: 1\n"
     ]
    },
    {
     "name": "stderr",
     "output_type": "stream",
     "text": [
      "100%|██████████| 1/1 [00:00<00:00,  1.58it/s]\n"
     ]
    },
    {
     "name": "stdout",
     "output_type": "stream",
     "text": [
      "[[-0.01526114 -0.02739326  0.00470422 ... -0.02261437 -0.00247834\n",
      "   0.00118139]]\n",
      "Working on concept ['task', 'profile', 'command', 'duration', 'time', 'min', 'max', 'endpoint', 'count', 'dump']\n",
      "No. of domains to run against: 267\n",
      "Batch size: 1\n"
     ]
    },
    {
     "name": "stderr",
     "output_type": "stream",
     "text": [
      "100%|██████████| 1/1 [00:00<00:00,  1.37it/s]\n"
     ]
    },
    {
     "name": "stdout",
     "output_type": "stream",
     "text": [
      "[[-0.01526114 -0.02739326  0.00470422 ... -0.02261437 -0.00247834\n",
      "   0.00118139]]\n",
      "Working on concept ['command', 'discovery', 'uuid', 'number', 'deserializable', 'serializable', 'key', 'value', 'pair', 'deserialize']\n",
      "No. of domains to run against: 267\n",
      "Batch size: 1\n"
     ]
    },
    {
     "name": "stderr",
     "output_type": "stream",
     "text": [
      "100%|██████████| 1/1 [00:00<00:00,  1.66it/s]\n"
     ]
    },
    {
     "name": "stdout",
     "output_type": "stream",
     "text": [
      "[[-0.01526114 -0.02739326  0.00470422 ... -0.02261437 -0.00247834\n",
      "   0.00118139]]\n",
      "Working on concept ['command', 'serializable', 'deserializable', 'profile', 'number', 'duration', 'builder', 'task', 'unsupported', 'uuid']\n",
      "No. of domains to run against: 267\n",
      "Batch size: 1\n"
     ]
    },
    {
     "name": "stderr",
     "output_type": "stream",
     "text": [
      "100%|██████████| 1/1 [00:00<00:00,  1.54it/s]\n"
     ]
    },
    {
     "name": "stdout",
     "output_type": "stream",
     "text": [
      "[[-0.01526114 -0.02739326  0.00470422 ... -0.02261437 -0.00247834\n",
      "   0.00118139]]\n",
      "Working on concept ['setting', 'integer', 'network', 'rule', 'max', 'size', 'request', 'require', 'response', 'sample']\n",
      "No. of domains to run against: 267\n",
      "Batch size: 1\n"
     ]
    },
    {
     "name": "stderr",
     "output_type": "stream",
     "text": [
      "100%|██████████| 1/1 [00:00<00:00,  1.63it/s]\n"
     ]
    },
    {
     "name": "stdout",
     "output_type": "stream",
     "text": [
      "[[-0.01526114 -0.02739326  0.00470422 ... -0.02261437 -0.00247834\n",
      "   0.00118139]]\n",
      "Working on concept ['command', 'serializable', 'deserializable', 'number', 'builder', 'task', 'profile', 'unsupported', 'deserializer', 'max']\n",
      "No. of domains to run against: 267\n",
      "Batch size: 1\n"
     ]
    },
    {
     "name": "stderr",
     "output_type": "stream",
     "text": [
      "100%|██████████| 1/1 [00:00<00:00,  1.45it/s]\n"
     ]
    },
    {
     "name": "stdout",
     "output_type": "stream",
     "text": [
      "[[-0.01526114 -0.02739326  0.00470422 ... -0.02261437 -0.00247834\n",
      "   0.00118139]]\n"
     ]
    }
   ],
   "source": [
    "gpt_domain_res = []\n",
    "gpt_model = GPTVectorizer()\n",
    "\n",
    "for con in cl:\n",
    "    df_res = comp_con_domains_gpt(gpt_model, con, dom_vec_list)\n",
    "    df_res['concept'] = str(con)\n",
    "    df_res = df_res[['concept', 'domain', 'sim_score']]\n",
    "    gpt_domain_res.append(df_res)\n",
    "    time.sleep(0.5)"
   ]
  },
  {
   "cell_type": "code",
   "execution_count": 50,
   "metadata": {},
   "outputs": [
    {
     "data": {
      "text/html": [
       "<div>\n",
       "<style scoped>\n",
       "    .dataframe tbody tr th:only-of-type {\n",
       "        vertical-align: middle;\n",
       "    }\n",
       "\n",
       "    .dataframe tbody tr th {\n",
       "        vertical-align: top;\n",
       "    }\n",
       "\n",
       "    .dataframe thead th {\n",
       "        text-align: right;\n",
       "    }\n",
       "</style>\n",
       "<table border=\"1\" class=\"dataframe\">\n",
       "  <thead>\n",
       "    <tr style=\"text-align: right;\">\n",
       "      <th></th>\n",
       "      <th>concept</th>\n",
       "      <th>domain</th>\n",
       "      <th>sim_score</th>\n",
       "    </tr>\n",
       "  </thead>\n",
       "  <tbody>\n",
       "    <tr>\n",
       "      <th>0</th>\n",
       "      <td>['command', 'serializable', 'deserializable', 'task', 'number', 'builder', 'profile', 'duration', 'max', 'network']</td>\n",
       "      <td>serialization</td>\n",
       "      <td>[[0.7871095032472926]]</td>\n",
       "    </tr>\n",
       "    <tr>\n",
       "      <th>1</th>\n",
       "      <td>['command', 'serializable', 'deserializable', 'task', 'number', 'builder', 'profile', 'duration', 'max', 'network']</td>\n",
       "      <td>computer benchmarking</td>\n",
       "      <td>[[0.7767717413135821]]</td>\n",
       "    </tr>\n",
       "    <tr>\n",
       "      <th>2</th>\n",
       "      <td>['command', 'serializable', 'deserializable', 'task', 'number', 'builder', 'profile', 'duration', 'max', 'network']</td>\n",
       "      <td>network monitoring</td>\n",
       "      <td>[[0.776385586986835]]</td>\n",
       "    </tr>\n",
       "    <tr>\n",
       "      <th>3</th>\n",
       "      <td>['command', 'serializable', 'deserializable', 'task', 'number', 'builder', 'profile', 'duration', 'max', 'network']</td>\n",
       "      <td>command-line interface</td>\n",
       "      <td>[[0.7755979170428933]]</td>\n",
       "    </tr>\n",
       "    <tr>\n",
       "      <th>4</th>\n",
       "      <td>['command', 'serializable', 'deserializable', 'task', 'number', 'builder', 'profile', 'duration', 'max', 'network']</td>\n",
       "      <td>network analysis</td>\n",
       "      <td>[[0.7733984086127061]]</td>\n",
       "    </tr>\n",
       "    <tr>\n",
       "      <th>...</th>\n",
       "      <td>...</td>\n",
       "      <td>...</td>\n",
       "      <td>...</td>\n",
       "    </tr>\n",
       "    <tr>\n",
       "      <th>262</th>\n",
       "      <td>['command', 'serializable', 'deserializable', 'task', 'number', 'builder', 'profile', 'duration', 'max', 'network']</td>\n",
       "      <td>banking industry</td>\n",
       "      <td>[[0.7011476762806811]]</td>\n",
       "    </tr>\n",
       "    <tr>\n",
       "      <th>263</th>\n",
       "      <td>['command', 'serializable', 'deserializable', 'task', 'number', 'builder', 'profile', 'duration', 'max', 'network']</td>\n",
       "      <td>reinforcement learning</td>\n",
       "      <td>[[0.6995509128730848]]</td>\n",
       "    </tr>\n",
       "    <tr>\n",
       "      <th>264</th>\n",
       "      <td>['command', 'serializable', 'deserializable', 'task', 'number', 'builder', 'profile', 'duration', 'max', 'network']</td>\n",
       "      <td>face detection</td>\n",
       "      <td>[[0.6994477931073957]]</td>\n",
       "    </tr>\n",
       "    <tr>\n",
       "      <th>265</th>\n",
       "      <td>['command', 'serializable', 'deserializable', 'task', 'number', 'builder', 'profile', 'duration', 'max', 'network']</td>\n",
       "      <td>mathematical finance</td>\n",
       "      <td>[[0.6963970813150013]]</td>\n",
       "    </tr>\n",
       "    <tr>\n",
       "      <th>266</th>\n",
       "      <td>['command', 'serializable', 'deserializable', 'task', 'number', 'builder', 'profile', 'duration', 'max', 'network']</td>\n",
       "      <td>word embedding</td>\n",
       "      <td>[[0.6948456310413523]]</td>\n",
       "    </tr>\n",
       "  </tbody>\n",
       "</table>\n",
       "<p>267 rows × 3 columns</p>\n",
       "</div>"
      ],
      "text/plain": [
       "                                                                                                                 concept   \n",
       "0    ['command', 'serializable', 'deserializable', 'task', 'number', 'builder', 'profile', 'duration', 'max', 'network']  \\\n",
       "1    ['command', 'serializable', 'deserializable', 'task', 'number', 'builder', 'profile', 'duration', 'max', 'network']   \n",
       "2    ['command', 'serializable', 'deserializable', 'task', 'number', 'builder', 'profile', 'duration', 'max', 'network']   \n",
       "3    ['command', 'serializable', 'deserializable', 'task', 'number', 'builder', 'profile', 'duration', 'max', 'network']   \n",
       "4    ['command', 'serializable', 'deserializable', 'task', 'number', 'builder', 'profile', 'duration', 'max', 'network']   \n",
       "..                                                                                                                   ...   \n",
       "262  ['command', 'serializable', 'deserializable', 'task', 'number', 'builder', 'profile', 'duration', 'max', 'network']   \n",
       "263  ['command', 'serializable', 'deserializable', 'task', 'number', 'builder', 'profile', 'duration', 'max', 'network']   \n",
       "264  ['command', 'serializable', 'deserializable', 'task', 'number', 'builder', 'profile', 'duration', 'max', 'network']   \n",
       "265  ['command', 'serializable', 'deserializable', 'task', 'number', 'builder', 'profile', 'duration', 'max', 'network']   \n",
       "266  ['command', 'serializable', 'deserializable', 'task', 'number', 'builder', 'profile', 'duration', 'max', 'network']   \n",
       "\n",
       "                     domain               sim_score  \n",
       "0             serialization  [[0.7871095032472926]]  \n",
       "1     computer benchmarking  [[0.7767717413135821]]  \n",
       "2        network monitoring   [[0.776385586986835]]  \n",
       "3    command-line interface  [[0.7755979170428933]]  \n",
       "4          network analysis  [[0.7733984086127061]]  \n",
       "..                      ...                     ...  \n",
       "262        banking industry  [[0.7011476762806811]]  \n",
       "263  reinforcement learning  [[0.6995509128730848]]  \n",
       "264          face detection  [[0.6994477931073957]]  \n",
       "265    mathematical finance  [[0.6963970813150013]]  \n",
       "266          word embedding  [[0.6948456310413523]]  \n",
       "\n",
       "[267 rows x 3 columns]"
      ]
     },
     "execution_count": 50,
     "metadata": {},
     "output_type": "execute_result"
    }
   ],
   "source": [
    "gpt_domain_res[0]"
   ]
  },
  {
   "cell_type": "code",
   "execution_count": 51,
   "metadata": {},
   "outputs": [
    {
     "data": {
      "text/html": [
       "<div>\n",
       "<style scoped>\n",
       "    .dataframe tbody tr th:only-of-type {\n",
       "        vertical-align: middle;\n",
       "    }\n",
       "\n",
       "    .dataframe tbody tr th {\n",
       "        vertical-align: top;\n",
       "    }\n",
       "\n",
       "    .dataframe thead th {\n",
       "        text-align: right;\n",
       "    }\n",
       "</style>\n",
       "<table border=\"1\" class=\"dataframe\">\n",
       "  <thead>\n",
       "    <tr style=\"text-align: right;\">\n",
       "      <th></th>\n",
       "      <th>concept</th>\n",
       "      <th>domain</th>\n",
       "      <th>sim_score</th>\n",
       "    </tr>\n",
       "  </thead>\n",
       "  <tbody>\n",
       "    <tr>\n",
       "      <th>0</th>\n",
       "      <td>['command', 'serializable', 'deserializable', 'task', 'number', 'builder', 'profile', 'duration', 'max', 'network']</td>\n",
       "      <td>serialization</td>\n",
       "      <td>[[0.7871095032472926]]</td>\n",
       "    </tr>\n",
       "    <tr>\n",
       "      <th>1</th>\n",
       "      <td>['command', 'serializable', 'deserializable', 'task', 'number', 'builder', 'profile', 'duration', 'max', 'network']</td>\n",
       "      <td>computer benchmarking</td>\n",
       "      <td>[[0.7767717413135821]]</td>\n",
       "    </tr>\n",
       "    <tr>\n",
       "      <th>2</th>\n",
       "      <td>['command', 'serializable', 'deserializable', 'task', 'number', 'builder', 'profile', 'duration', 'max', 'network']</td>\n",
       "      <td>network monitoring</td>\n",
       "      <td>[[0.776385586986835]]</td>\n",
       "    </tr>\n",
       "    <tr>\n",
       "      <th>3</th>\n",
       "      <td>['command', 'serializable', 'deserializable', 'task', 'number', 'builder', 'profile', 'duration', 'max', 'network']</td>\n",
       "      <td>command-line interface</td>\n",
       "      <td>[[0.7755979170428933]]</td>\n",
       "    </tr>\n",
       "    <tr>\n",
       "      <th>4</th>\n",
       "      <td>['command', 'serializable', 'deserializable', 'task', 'number', 'builder', 'profile', 'duration', 'max', 'network']</td>\n",
       "      <td>network analysis</td>\n",
       "      <td>[[0.7733984086127061]]</td>\n",
       "    </tr>\n",
       "    <tr>\n",
       "      <th>...</th>\n",
       "      <td>...</td>\n",
       "      <td>...</td>\n",
       "      <td>...</td>\n",
       "    </tr>\n",
       "    <tr>\n",
       "      <th>2131</th>\n",
       "      <td>['command', 'serializable', 'deserializable', 'number', 'builder', 'task', 'profile', 'unsupported', 'deserializer', 'max']</td>\n",
       "      <td>audio signal processing</td>\n",
       "      <td>[[0.6813674366676089]]</td>\n",
       "    </tr>\n",
       "    <tr>\n",
       "      <th>2132</th>\n",
       "      <td>['command', 'serializable', 'deserializable', 'number', 'builder', 'task', 'profile', 'unsupported', 'deserializer', 'max']</td>\n",
       "      <td>banking industry</td>\n",
       "      <td>[[0.6803217919213869]]</td>\n",
       "    </tr>\n",
       "    <tr>\n",
       "      <th>2133</th>\n",
       "      <td>['command', 'serializable', 'deserializable', 'number', 'builder', 'task', 'profile', 'unsupported', 'deserializer', 'max']</td>\n",
       "      <td>word embedding</td>\n",
       "      <td>[[0.6765283827069019]]</td>\n",
       "    </tr>\n",
       "    <tr>\n",
       "      <th>2134</th>\n",
       "      <td>['command', 'serializable', 'deserializable', 'number', 'builder', 'task', 'profile', 'unsupported', 'deserializer', 'max']</td>\n",
       "      <td>reinforcement learning</td>\n",
       "      <td>[[0.6748938159319278]]</td>\n",
       "    </tr>\n",
       "    <tr>\n",
       "      <th>2135</th>\n",
       "      <td>['command', 'serializable', 'deserializable', 'number', 'builder', 'task', 'profile', 'unsupported', 'deserializer', 'max']</td>\n",
       "      <td>mathematical finance</td>\n",
       "      <td>[[0.674337963191976]]</td>\n",
       "    </tr>\n",
       "  </tbody>\n",
       "</table>\n",
       "<p>2136 rows × 3 columns</p>\n",
       "</div>"
      ],
      "text/plain": [
       "                                                                                                                          concept   \n",
       "0             ['command', 'serializable', 'deserializable', 'task', 'number', 'builder', 'profile', 'duration', 'max', 'network']  \\\n",
       "1             ['command', 'serializable', 'deserializable', 'task', 'number', 'builder', 'profile', 'duration', 'max', 'network']   \n",
       "2             ['command', 'serializable', 'deserializable', 'task', 'number', 'builder', 'profile', 'duration', 'max', 'network']   \n",
       "3             ['command', 'serializable', 'deserializable', 'task', 'number', 'builder', 'profile', 'duration', 'max', 'network']   \n",
       "4             ['command', 'serializable', 'deserializable', 'task', 'number', 'builder', 'profile', 'duration', 'max', 'network']   \n",
       "...                                                                                                                           ...   \n",
       "2131  ['command', 'serializable', 'deserializable', 'number', 'builder', 'task', 'profile', 'unsupported', 'deserializer', 'max']   \n",
       "2132  ['command', 'serializable', 'deserializable', 'number', 'builder', 'task', 'profile', 'unsupported', 'deserializer', 'max']   \n",
       "2133  ['command', 'serializable', 'deserializable', 'number', 'builder', 'task', 'profile', 'unsupported', 'deserializer', 'max']   \n",
       "2134  ['command', 'serializable', 'deserializable', 'number', 'builder', 'task', 'profile', 'unsupported', 'deserializer', 'max']   \n",
       "2135  ['command', 'serializable', 'deserializable', 'number', 'builder', 'task', 'profile', 'unsupported', 'deserializer', 'max']   \n",
       "\n",
       "                       domain               sim_score  \n",
       "0               serialization  [[0.7871095032472926]]  \n",
       "1       computer benchmarking  [[0.7767717413135821]]  \n",
       "2          network monitoring   [[0.776385586986835]]  \n",
       "3      command-line interface  [[0.7755979170428933]]  \n",
       "4            network analysis  [[0.7733984086127061]]  \n",
       "...                       ...                     ...  \n",
       "2131  audio signal processing  [[0.6813674366676089]]  \n",
       "2132         banking industry  [[0.6803217919213869]]  \n",
       "2133           word embedding  [[0.6765283827069019]]  \n",
       "2134   reinforcement learning  [[0.6748938159319278]]  \n",
       "2135     mathematical finance   [[0.674337963191976]]  \n",
       "\n",
       "[2136 rows x 3 columns]"
      ]
     },
     "execution_count": 51,
     "metadata": {},
     "output_type": "execute_result"
    }
   ],
   "source": [
    "pd.set_option('display.max_colwidth', None)\n",
    "gpt_domain_match_df = pd.concat(gpt_domain_res).reset_index(drop=True)\n",
    "gpt_domain_match_df"
   ]
  },
  {
   "cell_type": "code",
   "execution_count": 52,
   "metadata": {},
   "outputs": [],
   "source": [
    "gpt_domain_match_df.to_csv(\"gpt_domain_match_df.csv\", index=False)"
   ]
  }
 ],
 "metadata": {
  "kernelspec": {
   "display_name": "Python 3",
   "language": "python",
   "name": "python3"
  },
  "language_info": {
   "codemirror_mode": {
    "name": "ipython",
    "version": 3
   },
   "file_extension": ".py",
   "mimetype": "text/x-python",
   "name": "python",
   "nbconvert_exporter": "python",
   "pygments_lexer": "ipython3",
   "version": "3.11.7"
  }
 },
 "nbformat": 4,
 "nbformat_minor": 2
}
