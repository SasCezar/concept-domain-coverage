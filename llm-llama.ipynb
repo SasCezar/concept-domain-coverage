{
 "cells": [
  {
   "cell_type": "code",
   "execution_count": 4,
   "metadata": {},
   "outputs": [],
   "source": [
    "from langchain.callbacks.manager import CallbackManager\n",
    "from langchain.callbacks.streaming_stdout import StreamingStdOutCallbackHandler\n",
    "from langchain.chains import ConversationalRetrievalChain, LLMChain\n",
    "from langchain.llms import LlamaCpp\n",
    "from langchain.memory import ConversationSummaryMemory\n",
    "from langchain.prompts import PromptTemplate"
   ]
  },
  {
   "cell_type": "code",
   "execution_count": 5,
   "metadata": {},
   "outputs": [
    {
     "name": "stderr",
     "output_type": "stream",
     "text": [
      "AVX = 1 | AVX2 = 1 | AVX512 = 0 | AVX512_VBMI = 0 | AVX512_VNNI = 0 | FMA = 1 | NEON = 0 | ARM_FMA = 0 | F16C = 1 | FP16_VA = 0 | WASM_SIMD = 0 | BLAS = 0 | SSE3 = 1 | SSSE3 = 0 | VSX = 0 | \n"
     ]
    }
   ],
   "source": [
    "callback_manager = CallbackManager([StreamingStdOutCallbackHandler()])\n",
    "llm = LlamaCpp(\n",
    "    # model_path=\"C:\\\\Users\\\\biadge\\\\codellama-13b.Q4_K_M.gguf\",\n",
    "    model_path=\"C:\\\\Users\\\\biadge\\\\llama-2-7b.Q4_K_M.gguf\",\n",
    "    n_ctx=5000,\n",
    "    temperature=0,\n",
    "    n_gpu_layers=24,\n",
    "    n_batch=512,\n",
    "    f16_kv=True,\n",
    "    callback_manager=callback_manager,\n",
    "    verbose=True,\n",
    ")"
   ]
  },
  {
   "cell_type": "code",
   "execution_count": 7,
   "metadata": {},
   "outputs": [
    {
     "name": "stdout",
     "output_type": "stream",
     "text": [
      " time"
     ]
    },
    {
     "name": "stderr",
     "output_type": "stream",
     "text": [
      "Llama.generate: prefix-match hit\n"
     ]
    },
    {
     "name": "stdout",
     "output_type": "stream",
     "text": [
      "?\n",
      " surely you know that the clocks are changed twice a year, but do you know why?\n",
      "Daylight saving time (DST) is the practice of temporarily advancing the official local time during summer months so that sunrise occurs later in the morning, extending evening daylight hours. The idea for DST originated with Benjamin Franklin who postulated that Parisians could save money on candles by rising earlier to use more natural light.\n",
      "The first modern DST legislation was enacted in Germany during World War I and has been used ever since. In the United States, DST is currently observed from the second Sunday in March to the first Sunday in November.\n",
      "During DST, clocks are set one hour ahead of standard time (e.g., 2:00 a.m. local standard time becomes 3:00 a.m. daylight saving time). The main purpose of DST is to make better use of natural daylight by shifting evening activities such as dining, shopping and recreation to later hours of the day when it is lighter outside.\n",
      "During DST, sunrise and sunset occur one hour later in the evening than during standard time"
     ]
    },
    {
     "data": {
      "text/plain": [
       "' time?\\n surely you know that the clocks are changed twice a year, but do you know why?\\nDaylight saving time (DST) is the practice of temporarily advancing the official local time during summer months so that sunrise occurs later in the morning, extending evening daylight hours. The idea for DST originated with Benjamin Franklin who postulated that Parisians could save money on candles by rising earlier to use more natural light.\\nThe first modern DST legislation was enacted in Germany during World War I and has been used ever since. In the United States, DST is currently observed from the second Sunday in March to the first Sunday in November.\\nDuring DST, clocks are set one hour ahead of standard time (e.g., 2:00 a.m. local standard time becomes 3:00 a.m. daylight saving time). The main purpose of DST is to make better use of natural daylight by shifting evening activities such as dining, shopping and recreation to later hours of the day when it is lighter outside.\\nDuring DST, sunrise and sunset occur one hour later in the evening than during standard time'"
      ]
     },
     "execution_count": 7,
     "metadata": {},
     "output_type": "execute_result"
    }
   ],
   "source": [
    "llm(\n",
    "    \"Explain what is daylight savings\"\n",
    ")"
   ]
  },
  {
   "cell_type": "code",
   "execution_count": 4,
   "metadata": {},
   "outputs": [],
   "source": [
    "from langchain.chains.question_answering import load_qa_chain\n",
    "\n",
    "# Prompt\n",
    "template = \"\"\"Use the following pieces of context to answer the question at the end. \n",
    "If you don't know the answer, just say that you don't know, don't try to make up an answer. \n",
    "Use three sentences maximum and keep the answer as concise as possible. \n",
    "{context}\n",
    "Question: {question}\n",
    "Helpful Answer:\"\"\"\n",
    "QA_CHAIN_PROMPT = PromptTemplate(\n",
    "    input_variables=[\"context\", \"question\"],\n",
    "    template=template,\n",
    ")"
   ]
  },
  {
   "cell_type": "code",
   "execution_count": null,
   "metadata": {},
   "outputs": [],
   "source": []
  }
 ],
 "metadata": {
  "kernelspec": {
   "display_name": "Python 3",
   "language": "python",
   "name": "python3"
  },
  "language_info": {
   "codemirror_mode": {
    "name": "ipython",
    "version": 3
   },
   "file_extension": ".py",
   "mimetype": "text/x-python",
   "name": "python",
   "nbconvert_exporter": "python",
   "pygments_lexer": "ipython3",
   "version": "3.11.7"
  }
 },
 "nbformat": 4,
 "nbformat_minor": 2
}
