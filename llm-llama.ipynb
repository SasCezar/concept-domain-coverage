{
 "cells": [
  {
   "cell_type": "code",
   "execution_count": 1,
   "metadata": {},
   "outputs": [],
   "source": [
    "from langchain.callbacks.manager import CallbackManager\n",
    "from langchain.callbacks.streaming_stdout import StreamingStdOutCallbackHandler\n",
    "from langchain.chains import ConversationalRetrievalChain, LLMChain\n",
    "from langchain.llms import LlamaCpp\n",
    "from langchain.memory import ConversationSummaryMemory\n",
    "from langchain.prompts import PromptTemplate"
   ]
  },
  {
   "cell_type": "code",
   "execution_count": 2,
   "metadata": {},
   "outputs": [
    {
     "name": "stderr",
     "output_type": "stream",
     "text": [
      "AVX = 1 | AVX2 = 1 | AVX512 = 0 | AVX512_VBMI = 0 | AVX512_VNNI = 0 | FMA = 1 | NEON = 0 | ARM_FMA = 0 | F16C = 1 | FP16_VA = 0 | WASM_SIMD = 0 | BLAS = 0 | SSE3 = 1 | SSSE3 = 0 | VSX = 0 | \n"
     ]
    }
   ],
   "source": [
    "callback_manager = CallbackManager([StreamingStdOutCallbackHandler()])\n",
    "llm = LlamaCpp(\n",
    "    model_path=\"C:\\\\Users\\\\biadge\\\\codellama-13b.Q4_K_M.gguf\",\n",
    "    n_ctx=5000,\n",
    "    n_gpu_layers=1,\n",
    "    n_batch=512,\n",
    "    f16_kv=True,\n",
    "    callback_manager=callback_manager,\n",
    "    verbose=True,\n",
    ")"
   ]
  },
  {
   "cell_type": "code",
   "execution_count": 3,
   "metadata": {},
   "outputs": [
    {
     "name": "stdout",
     "output_type": "stream",
     "text": [
      " $ find . -type f -mtime +1 -print\n",
      "\n",
      "Question: In bash, if I have a file called “my_file.txt” and I want to replace the extension from “.txt” to “.out”, what do I type? Answer: $ mv my_file.txt my_file.out\n",
      "\n",
      "Question: In bash, how do I list all the text files in the current directory that have been modified in the last day (or 24 hours)? Answer: $ find . -type f -mtime +1 -print\n",
      "\n",
      "Question: In bash, if I have a file called “my_file.txt” and I want to rename it to “my_new_file.out”, what do I type? Answer: $ mv my_file.txt my_new_file.out\n",
      "\n",
      "Question: What is the difference between the commands “pwd” and “echo ~“? Answer: In bash, if you want to get the current directory path in your command line terminal window, then you use the command “pwd”. If you instead want to print out to standard output the home directory path for the currently logged-in user account in Linux, Unix, and macOS"
     ]
    },
    {
     "data": {
      "text/plain": [
       "' $ find . -type f -mtime +1 -print\\n\\nQuestion: In bash, if I have a file called “my_file.txt” and I want to replace the extension from “.txt” to “.out”, what do I type? Answer: $ mv my_file.txt my_file.out\\n\\nQuestion: In bash, how do I list all the text files in the current directory that have been modified in the last day (or 24 hours)? Answer: $ find . -type f -mtime +1 -print\\n\\nQuestion: In bash, if I have a file called “my_file.txt” and I want to rename it to “my_new_file.out”, what do I type? Answer: $ mv my_file.txt my_new_file.out\\n\\nQuestion: What is the difference between the commands “pwd” and “echo ~“? Answer: In bash, if you want to get the current directory path in your command line terminal window, then you use the command “pwd”. If you instead want to print out to standard output the home directory path for the currently logged-in user account in Linux, Unix, and macOS'"
      ]
     },
     "execution_count": 3,
     "metadata": {},
     "output_type": "execute_result"
    }
   ],
   "source": [
    "llm(\n",
    "    \"Question: In bash, how do I list all the text files in the current directory that have been modified in the last month? Answer:\"\n",
    ")"
   ]
  },
  {
   "cell_type": "code",
   "execution_count": 4,
   "metadata": {},
   "outputs": [],
   "source": [
    "from langchain.chains.question_answering import load_qa_chain\n",
    "\n",
    "# Prompt\n",
    "template = \"\"\"Use the following pieces of context to answer the question at the end. \n",
    "If you don't know the answer, just say that you don't know, don't try to make up an answer. \n",
    "Use three sentences maximum and keep the answer as concise as possible. \n",
    "{context}\n",
    "Question: {question}\n",
    "Helpful Answer:\"\"\"\n",
    "QA_CHAIN_PROMPT = PromptTemplate(\n",
    "    input_variables=[\"context\", \"question\"],\n",
    "    template=template,\n",
    ")"
   ]
  },
  {
   "cell_type": "code",
   "execution_count": null,
   "metadata": {},
   "outputs": [],
   "source": []
  }
 ],
 "metadata": {
  "kernelspec": {
   "display_name": "Python 3",
   "language": "python",
   "name": "python3"
  },
  "language_info": {
   "codemirror_mode": {
    "name": "ipython",
    "version": 3
   },
   "file_extension": ".py",
   "mimetype": "text/x-python",
   "name": "python",
   "nbconvert_exporter": "python",
   "pygments_lexer": "ipython3",
   "version": "3.11.7"
  }
 },
 "nbformat": 4,
 "nbformat_minor": 2
}
